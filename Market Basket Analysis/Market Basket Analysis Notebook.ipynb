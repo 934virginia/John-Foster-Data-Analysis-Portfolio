{
 "cells": [
  {
   "attachments": {},
   "cell_type": "markdown",
   "metadata": {},
   "source": [
    "# Market Basket Analysis Performance Assessment\n",
    "\n",
    "### John Foster\n",
    "### Department of Information Technology, Western Governors University\n",
    "### D212: Data Mining II\n",
    "### Professor Keiona Middleton\n",
    "### June 12, 2023"
   ]
  },
  {
   "attachments": {},
   "cell_type": "markdown",
   "metadata": {},
   "source": [
    "### A1: PROPOSAL OF QUESTION\n",
    "\n",
    "The research question I have decided to pursue using the Teleco Market Basket dataset is as follows:\n",
    "\n",
    "“What are the 5 items that demonstrate the highest level of confidence with the most common item in the dataset?”\n",
    "\n",
    "By identifying which combinations of items occur most frequently alongside the most common item in a given purchase, the organization can begin offering item discount incentives that statistically appeal to the greatest number of customers, hopefully mitigating the potential for customer churn across the greatest possible percent of the customer base by increasing customer satisfaction."
   ]
  },
  {
   "attachments": {},
   "cell_type": "markdown",
   "metadata": {},
   "source": [
    "### A2: DEFINED GOAL\n",
    "\n",
    "The primary goal of this analysis is twofold: finding the most commonly observed item purchased across the dataset, and then using that information to identify the 5 items that display the highest probability of appearing alongside that item in a purchase."
   ]
  },
  {
   "attachments": {},
   "cell_type": "markdown",
   "metadata": {},
   "source": [
    "### B1: EXPLANATION OF MARKET BASKET\n",
    "\n",
    "A market basket analysis searches for associations between items purchased by customers through the statistical evaluation of a large collection of recorded transactions, ultimately seeking to determine which items are most likely to be purchased together (Kamara, 2022).\n",
    "\n",
    "Before the analysis can be performed, the dataset must first be sourced, cleaned, and consistently formatted. In our analysis, the transactions are formatted as lists of strings.\n",
    "\n",
    "Next, an algorithm is applied to identify itemsets and their frequency. The algorithm used in our analysis is the Apriori algorithm. Essentially, this algorithm searches for combinations of items that appear frequently alongside one another iteratively, starting with “groups” of a single item, before incrementing group size by 1 at each pass and re-evaluating for frequency (referred to as “support”). THe Apriori algorithm maximizes its efficiency by pruning groups that do not appear often enough, thereby eliminating massive quantities of individual calculations that would otherwise be performed moving forward. The selection criteria for pruning is generated as input by the user in the form of a predefined minimum threshold (in our analysis, this threshold will be .03). The threshold also acts as the stopping criterion for the algorithm when all new potential itemsets evaluated in an iteration fail to meet the threshold.\n",
    "\n",
    "Once the list of itemsets is generated, the algorithm calculates association rules between items in the dataset, which explicitly describe the nature of the relationships between the given items. Once these rules are generate, we will first identify the item that appears most frequently in the database (demonstrating the highest level of ‘support’ according to the algorithm), then generate a dataframe containing the rules associated with that item. We will then select the 5 rules with the highest degree of ‘confidence’ (the probability of a ‘consequent’ item appearing based on the presence of a given ‘antecedent’ item). This will effectively satisfy our research question."
   ]
  },
  {
   "attachments": {},
   "cell_type": "markdown",
   "metadata": {},
   "source": [
    "### B2: TRANSACTION EXAMPLE\n",
    "\n",
    "The following code returns an example of a customer transaction evaluated in our analysis:"
   ]
  },
  {
   "cell_type": "code",
   "execution_count": 98,
   "metadata": {},
   "outputs": [],
   "source": [
    "#Import the libraries that we need for our analysis.\n",
    "import pandas as pd\n",
    "from mlxtend.frequent_patterns import association_rules, apriori\n",
    "from mlxtend.preprocessing import TransactionEncoder"
   ]
  },
  {
   "cell_type": "code",
   "execution_count": 99,
   "metadata": {},
   "outputs": [],
   "source": [
    "#Import the churn dataset from the source csv file and make a dataframe out of it.\n",
    "raw_df = pd.read_csv('teleco_market_basket.csv')\n",
    "\n",
    "pd.set_option('display.max_columns', None)\n",
    "pd.set_option('display.width', 1000)\n",
    "\n",
    "#Make a copy of the imported dataframe in case we would like to inspect or manipulate the raw data. \n",
    "df = raw_df.copy()"
   ]
  },
  {
   "cell_type": "code",
   "execution_count": 100,
   "metadata": {},
   "outputs": [
    {
     "name": "stdout",
     "output_type": "stream",
     "text": [
      "                         Item01     Item02     Item03                      Item04                     Item05        Item06                        Item07                               Item08                         Item09                                   Item10                        Item11                     Item12                        Item13                       Item14                          Item15                          Item16                 Item17                    Item18                                Item19                               Item20\n",
      "1  Logitech M510 Wireless mouse  HP 63 Ink  HP 65 ink  nonda USB C to USB Adapter  10ft iPHone Charger Cable  HP 902XL ink  Creative Pebble 2.0 Speakers  Cleaning Gel Universal Dust Cleaner  Micro Center 32GB Memory card  YUNSONG 3pack 6ft Nylon Lightning Cable  TopMate C5 Laptop Cooler pad  Apple USB-C Charger cable  HyperX Cloud Stinger Headset  TONOR USB Gaming Microphone  Dust-Off Compressed Gas 2 pack  3A USB Type C Cable 3 pack 6FT  HOVAMP iPhone charger  SanDisk Ultra 128GB card  FEEL2NICE 5 pack 10ft Lighning cable  FEIYOLD Blue light Blocking Glasses\n"
     ]
    }
   ],
   "source": [
    "print(df.head(2).tail(1))"
   ]
  },
  {
   "attachments": {},
   "cell_type": "markdown",
   "metadata": {},
   "source": [
    "### B3: MARKET BASKET ASSUMPTION\n",
    "\n",
    "One assumption of a market basket analysis is that there is a specified minimum support threshold identified for use in the Apriori algorithm. This threshold acts as the filtering criteria that allows the algorithm to prune itemsets that do not demonstrate an adequate amount of support within the dataset (thereby maximizing computational efficiency), and eventually acts as the stopping criterion when all new potential itemsets fail to meet it."
   ]
  },
  {
   "attachments": {},
   "cell_type": "markdown",
   "metadata": {},
   "source": [
    "### C1: TRANSFORMING THE DATASET\n",
    "\n",
    "There are several steps necessary to transform the dataset and prepare it for processing in a market basket analysis. First, upon examining the imported source .csv file in a dataframe, we can observe that every other row in the dataset is a null row. We will use the .dropna(how=’all’) method to quickly drop those rows. When we evaluate the individual columns for nullity using the .info function, we can see that there is more and more nullity in each column as the item number increases, as there are more transactions in the dataset with fewer items.\n",
    "\n",
    "In order to account for this nullity, we will collect each row as a list, with each column’s value stored as a string, but only if the value in the given cell is not null. These lists will be stored in a master list so that we can iterate through them cleanly using our TransactionEncoder method, which converts the item values of each transaction to boolean values, thereby formatting it correctly for the Apriori algorithm. This concludes the necessary preprocessing of our dataset.\n",
    "\n",
    "The code to execute the preprocessing steps can be found below."
   ]
  },
  {
   "cell_type": "code",
   "execution_count": 101,
   "metadata": {},
   "outputs": [
    {
     "name": "stdout",
     "output_type": "stream",
     "text": [
      "                                  Item01                            Item02        Item03                      Item04                     Item05        Item06                        Item07                               Item08                         Item09                                   Item10                        Item11                     Item12                        Item13                       Item14                          Item15                          Item16                 Item17                    Item18                                Item19                               Item20\n",
      "0                                    NaN                               NaN           NaN                         NaN                        NaN           NaN                           NaN                                  NaN                            NaN                                      NaN                           NaN                        NaN                           NaN                          NaN                             NaN                             NaN                    NaN                       NaN                                   NaN                                  NaN\n",
      "1           Logitech M510 Wireless mouse                         HP 63 Ink     HP 65 ink  nonda USB C to USB Adapter  10ft iPHone Charger Cable  HP 902XL ink  Creative Pebble 2.0 Speakers  Cleaning Gel Universal Dust Cleaner  Micro Center 32GB Memory card  YUNSONG 3pack 6ft Nylon Lightning Cable  TopMate C5 Laptop Cooler pad  Apple USB-C Charger cable  HyperX Cloud Stinger Headset  TONOR USB Gaming Microphone  Dust-Off Compressed Gas 2 pack  3A USB Type C Cable 3 pack 6FT  HOVAMP iPhone charger  SanDisk Ultra 128GB card  FEEL2NICE 5 pack 10ft Lighning cable  FEIYOLD Blue light Blocking Glasses\n",
      "2                                    NaN                               NaN           NaN                         NaN                        NaN           NaN                           NaN                                  NaN                            NaN                                      NaN                           NaN                        NaN                           NaN                          NaN                             NaN                             NaN                    NaN                       NaN                                   NaN                                  NaN\n",
      "3  Apple Lightning to Digital AV Adapter  TP-Link AC1750 Smart WiFi Router  Apple Pencil                         NaN                        NaN           NaN                           NaN                                  NaN                            NaN                                      NaN                           NaN                        NaN                           NaN                          NaN                             NaN                             NaN                    NaN                       NaN                                   NaN                                  NaN\n",
      "4                                    NaN                               NaN           NaN                         NaN                        NaN           NaN                           NaN                                  NaN                            NaN                                      NaN                           NaN                        NaN                           NaN                          NaN                             NaN                             NaN                    NaN                       NaN                                   NaN                                  NaN\n"
     ]
    }
   ],
   "source": [
    "print(df.head())"
   ]
  },
  {
   "cell_type": "code",
   "execution_count": 102,
   "metadata": {},
   "outputs": [],
   "source": [
    "#Drop the null rows\n",
    "df.dropna(how='all', inplace=True)"
   ]
  },
  {
   "cell_type": "code",
   "execution_count": 103,
   "metadata": {},
   "outputs": [
    {
     "name": "stdout",
     "output_type": "stream",
     "text": [
      "<class 'pandas.core.frame.DataFrame'>\n",
      "Int64Index: 7501 entries, 1 to 15001\n",
      "Data columns (total 20 columns):\n",
      " #   Column  Non-Null Count  Dtype \n",
      "---  ------  --------------  ----- \n",
      " 0   Item01  7501 non-null   object\n",
      " 1   Item02  5747 non-null   object\n",
      " 2   Item03  4389 non-null   object\n",
      " 3   Item04  3345 non-null   object\n",
      " 4   Item05  2529 non-null   object\n",
      " 5   Item06  1864 non-null   object\n",
      " 6   Item07  1369 non-null   object\n",
      " 7   Item08  981 non-null    object\n",
      " 8   Item09  654 non-null    object\n",
      " 9   Item10  395 non-null    object\n",
      " 10  Item11  256 non-null    object\n",
      " 11  Item12  154 non-null    object\n",
      " 12  Item13  87 non-null     object\n",
      " 13  Item14  47 non-null     object\n",
      " 14  Item15  25 non-null     object\n",
      " 15  Item16  8 non-null      object\n",
      " 16  Item17  4 non-null      object\n",
      " 17  Item18  4 non-null      object\n",
      " 18  Item19  3 non-null      object\n",
      " 19  Item20  1 non-null      object\n",
      "dtypes: object(20)\n",
      "memory usage: 1.2+ MB\n",
      "None\n"
     ]
    }
   ],
   "source": [
    "print(df.info())"
   ]
  },
  {
   "cell_type": "code",
   "execution_count": 104,
   "metadata": {},
   "outputs": [],
   "source": [
    "#Create a master list for each row's list of string values\n",
    "master_list = []\n",
    "#Make our nested for loop to create and populate our lists\n",
    "for index in range(len(df)):\n",
    "    row_list = []\n",
    "    for value in range(len(df.columns)):\n",
    "        # Add the value from the cell as long as it isn't a null value\n",
    "        if pd.isnull(df.iloc[index, value]) is False:\n",
    "            row_list.append(str(df.values[index, value]))\n",
    "    master_list.append(row_list)"
   ]
  },
  {
   "cell_type": "code",
   "execution_count": 105,
   "metadata": {},
   "outputs": [
    {
     "name": "stdout",
     "output_type": "stream",
     "text": [
      "      10ft iPHone Charger Cable  10ft iPHone Charger Cable 2 Pack  3 pack Nylon Braided Lightning Cable  3A USB Type C Cable 3 pack 6FT  5pack Nylon Braided USB C cables  ARRIS SURFboard SB8200 Cable Modem  Anker 2-in-1 USB Card Reader  Anker 4-port USB hub  Anker USB C to HDMI Adapter  Apple Lightning to Digital AV Adapter  Apple Lightning to USB cable  Apple Magic Mouse 2  Apple Pencil  Apple Pencil 2nd Gen  Apple Power Adapter Extension Cable  Apple USB-C Charger cable  AutoFocus 1080p Webcam  BENGOO G90000 headset  Blue Light Blocking Glasses  Blue Light Blocking Glasses 2pack  Brother Genuine High Yield Toner Cartridge  Cat 6 Ethernet Cable 50ft  Cat8 Ethernet Cable  CicTsing MM057 2.4G Wireless Mouse  Cleaning Gel Universal Dust Cleaner  Creative Pebble 2.0 Speakers  DisplayPort ot HDMI adapter  Dust-Off Compressed Gas  Dust-Off Compressed Gas 2 pack  FEEL2NICE 5 pack 10ft Lighning cable  FEIYOLD Blue light Blocking Glasses  Falcon Dust Off Compressed Gas  \\\n",
      "0                          True                             False                                 False                            True                             False                               False                         False                 False                        False                                  False                         False                False         False                 False                                False                       True                   False                  False                        False                              False                                       False                      False                False                               False                                 True                          True                        False                    False                            True                                  True                                 True                           False   \n",
      "1                         False                             False                                 False                           False                             False                               False                         False                 False                        False                                   True                         False                False          True                 False                                False                      False                   False                  False                        False                              False                                       False                      False                False                               False                                False                         False                        False                    False                           False                                 False                                False                           False   \n",
      "2                         False                             False                                 False                           False                             False                               False                         False                 False                        False                                  False                         False                False         False                 False                                False                      False                   False                  False                        False                              False                                       False                      False                False                               False                                False                         False                        False                    False                           False                                 False                                False                           False   \n",
      "3                         False                             False                                 False                           False                             False                               False                         False                 False                        False                                  False                         False                False         False                 False                                False                      False                   False                  False                        False                              False                                       False                      False                 True                               False                                False                         False                        False                    False                           False                                 False                                False                           False   \n",
      "4                         False                             False                                 False                           False                             False                               False                         False                 False                        False                                  False                         False                False         False                 False                                False                       True                   False                  False                        False                              False                                       False                      False                False                               False                                False                         False                        False                    False                            True                                 False                                False                           False   \n",
      "...                         ...                               ...                                   ...                             ...                               ...                                 ...                           ...                   ...                          ...                                    ...                           ...                  ...           ...                   ...                                  ...                        ...                     ...                    ...                          ...                                ...                                         ...                        ...                  ...                                 ...                                  ...                           ...                          ...                      ...                             ...                                   ...                                  ...                             ...   \n",
      "7496                      False                             False                                 False                           False                             False                               False                         False                 False                        False                                  False                         False                False         False                 False                                False                      False                   False                  False                        False                              False                                       False                      False                False                               False                                False                         False                        False                    False                           False                                 False                                False                           False   \n",
      "7497                      False                             False                                 False                           False                             False                                True                         False                 False                        False                                   True                         False                False          True                 False                                False                       True                   False                  False                        False                              False                                       False                      False                False                               False                                False                         False                        False                    False                           False                                 False                                False                           False   \n",
      "7498                      False                             False                                 False                           False                             False                               False                         False                 False                        False                                  False                         False                False         False                 False                                False                      False                   False                  False                        False                              False                                       False                      False                False                               False                                False                         False                        False                    False                           False                                 False                                False                            True   \n",
      "7499                      False                             False                                 False                           False                             False                               False                         False                 False                        False                                  False                         False                False         False                 False                                False                       True                   False                  False                        False                              False                                       False                      False                False                               False                                False                         False                        False                    False                           False                                 False                                False                           False   \n",
      "7500                      False                             False                                 False                           False                             False                               False                         False                 False                        False                                  False                         False                False          True                 False                                False                      False                   False                  False                        False                              False                                       False                      False                False                               False                                False                         False                        False                    False                           False                                 False                                False                           False   \n",
      "\n",
      "      HOVAMP Mfi 6pack Lightning Cable  HOVAMP iPhone charger  HP 61 2 pack ink  HP 61 Tri-color ink  HP 61 ink  HP 62XL Tri-Color ink  HP 62XL ink  HP 63 Ink  HP 63 Tri-color ink  HP 63XL Ink  HP 63XL Tri-color ink  HP 64 Tri-Color ink  HP 64 ink  HP 65 ink  HP 902XL ink  HP 952 ink  HP ENVY 5055 printer  HP952XL ink  HooToo USB C Hub  HyperX Cloud Stinger Headset  Jelly Comb 2.4G Slim Wireless mouse  Leader Desk Pad Protector  Logitech M510 Wireless mouse  Logitech MK270 Wireless Keyboard/Mouse  Logitech MK345 Wireless combo  Logitech USB H390 headset  M.2 Screw kit  Mfi-Certified Lightning to USB A Cable  Micro Center 32GB Memory card  Microsot Surface Dock 2  Moread HDMI to VGA Adapter  Mpow HC6 USB Headset  NETGEAR CM500 Cable Modem  NETGEAR Nighthawk WiFi Router  NETGEAR Orbi Home Mesh WiFi System  Nylon Braided Lightning to USB cable  PS4 Headset  Premium Nylon USB Cable  RUNMUS Gaming Headset  SAMSUNG 128GB card  SAMSUNG 256 GB card  SAMSUNG EVO 32GB card  \\\n",
      "0                                False                   True             False                False      False                  False        False       True                False        False                  False                False      False       True          True       False                 False        False             False                          True                                False                      False                          True                                   False                          False                      False          False                                   False                           True                    False                       False                 False                      False                          False                               False                                 False        False                    False                  False               False                False                  False   \n",
      "1                                False                  False             False                False      False                  False        False      False                False        False                  False                False      False      False         False       False                 False        False             False                         False                                False                      False                         False                                   False                          False                      False          False                                   False                          False                    False                       False                 False                      False                          False                               False                                 False        False                    False                  False               False                False                  False   \n",
      "2                                False                  False             False                False      False                  False        False      False                False        False                  False                False      False      False         False       False                 False        False             False                         False                                False                      False                         False                                   False                          False                      False          False                                   False                          False                    False                       False                 False                      False                          False                               False                                 False        False                    False                  False               False                False                  False   \n",
      "3                                False                  False             False                False      False                  False        False      False                False        False                  False                False      False       True         False       False                 False        False             False                         False                                False                      False                         False                                   False                          False                      False          False                                   False                          False                    False                       False                 False                      False                          False                               False                                 False        False                    False                  False               False                False                  False   \n",
      "4                                False                  False             False                False      False                   True        False      False                False        False                  False                False      False      False         False       False                 False        False             False                         False                                False                      False                         False                                   False                          False                      False          False                                   False                          False                    False                        True                 False                      False                          False                               False                                 False        False                    False                  False               False                False                  False   \n",
      "...                                ...                    ...               ...                  ...        ...                    ...          ...        ...                  ...          ...                    ...                  ...        ...        ...           ...         ...                   ...          ...               ...                           ...                                  ...                        ...                           ...                                     ...                            ...                        ...            ...                                     ...                            ...                      ...                         ...                   ...                        ...                            ...                                 ...                                   ...          ...                      ...                    ...                 ...                  ...                    ...   \n",
      "7496                             False                  False             False                False      False                  False        False      False                False        False                  False                False      False      False         False       False                 False        False             False                         False                                False                      False                         False                                   False                          False                      False          False                                   False                          False                    False                       False                 False                      False                          False                               False                                 False        False                    False                  False               False                False                  False   \n",
      "7497                             False                  False             False                False      False                  False        False      False                False        False                  False                False      False      False         False       False                 False        False             False                         False                                False                      False                         False                                   False                          False                      False          False                                   False                          False                    False                       False                 False                      False                          False                               False                                  True        False                    False                  False               False                False                  False   \n",
      "7498                             False                  False             False                False      False                  False        False      False                False        False                  False                False      False      False         False       False                 False        False             False                         False                                False                      False                         False                                   False                          False                      False          False                                   False                          False                    False                       False                 False                      False                          False                               False                                 False        False                    False                  False               False                False                  False   \n",
      "7499                             False                  False             False                False      False                  False        False      False                False         True                  False                False      False      False         False       False                 False        False             False                         False                                False                      False                         False                                   False                          False                      False          False                                   False                          False                    False                       False                 False                      False                          False                               False                                 False        False                    False                  False               False                False                  False   \n",
      "7500                             False                  False             False                False      False                  False        False      False                False        False                  False                False      False      False         False       False                 False        False             False                         False                                False                      False                         False                                   False                          False                      False          False                                   False                          False                    False                       False                 False                      False                          False                               False                                 False        False                    False                   True               False                False                  False   \n",
      "\n",
      "      SAMSUNG EVO 64GB card  Sabrent 4-port USB 3.0 hub  SanDisk 128GB Ultra microSDXC card  SanDisk 128GB card  SanDisk 128GB microSDXC card  SanDisk 32GB Ultra SDHC card  SanDisk 32GB card  SanDisk Extreme 128GB card  SanDisk Extreme 256GB card  SanDisk Extreme 32GB 2pack card  SanDisk Extreme Pro 128GB card  SanDisk Extreme Pro 64GB card  SanDisk Ultra 128GB card  SanDisk Ultra 256GB card  SanDisk Ultra 400GB card  SanDisk Ultra 64GB card  Screen Mom Screen Cleaner kit  Stylus Pen for iPad  Syntech USB C to USB Adapter  TONOR USB Gaming Microphone  TP-Link AC1750 Smart WiFi Router  TP-Link AC4000 WiFi router  TopMate C5 Laptop Cooler pad  UNEN Mfi Certified 5-pack Lightning Cable  USB 2.0 Printer cable  USB C to USB Male Adapter  USB Type C Cable  USB Type C to USB-A Charger cable  VIVO Dual LCD Monitor Desk mount  VicTsing Mouse Pad  VicTsing Wireless mouse  Vsco 70 pack stickers  Webcam with Microphone  XPOWER A-2 Air Pump blower  YUNSONG 3pack 6ft Nylon Lightning Cable  \\\n",
      "0                     False                       False                               False               False                         False                         False              False                       False                       False                            False                           False                          False                      True                     False                     False                    False                          False                False                         False                         True                             False                       False                          True                                      False                  False                      False             False                              False                             False               False                    False                  False                   False                       False                                     True   \n",
      "1                     False                       False                               False               False                         False                         False              False                       False                       False                            False                           False                          False                     False                     False                     False                    False                          False                False                         False                        False                              True                       False                         False                                      False                  False                      False             False                              False                             False               False                    False                  False                   False                       False                                    False   \n",
      "2                     False                       False                               False               False                         False                         False              False                       False                       False                            False                           False                          False                     False                     False                     False                    False                          False                False                         False                        False                             False                       False                         False                                       True                  False                      False             False                              False                             False               False                    False                  False                   False                       False                                    False   \n",
      "3                     False                       False                               False               False                         False                         False              False                       False                       False                            False                           False                          False                     False                     False                     False                    False                          False                False                         False                        False                             False                       False                         False                                      False                  False                      False             False                              False                             False               False                    False                  False                   False                       False                                    False   \n",
      "4                     False                       False                               False               False                         False                         False              False                       False                       False                            False                           False                          False                     False                     False                     False                    False                           True                False                         False                        False                             False                       False                         False                                      False                  False                      False             False                              False                             False               False                    False                  False                   False                       False                                    False   \n",
      "...                     ...                         ...                                 ...                 ...                           ...                           ...                ...                         ...                         ...                              ...                             ...                            ...                       ...                       ...                       ...                      ...                            ...                  ...                           ...                          ...                               ...                         ...                           ...                                        ...                    ...                        ...               ...                                ...                               ...                 ...                      ...                    ...                     ...                         ...                                      ...   \n",
      "7496                  False                       False                               False               False                          True                          True              False                       False                       False                            False                           False                          False                     False                     False                     False                    False                          False                False                         False                        False                             False                       False                         False                                      False                  False                      False             False                              False                             False               False                    False                   True                   False                       False                                    False   \n",
      "7497                  False                       False                               False               False                         False                         False              False                       False                       False                            False                           False                          False                     False                     False                     False                    False                          False                False                         False                        False                             False                       False                         False                                      False                   True                      False             False                              False                             False               False                    False                  False                   False                       False                                    False   \n",
      "7498                  False                       False                               False               False                         False                         False              False                       False                       False                            False                           False                          False                     False                     False                     False                    False                          False                False                         False                        False                             False                       False                         False                                      False                  False                      False             False                              False                             False               False                    False                  False                   False                       False                                    False   \n",
      "7499                  False                       False                               False               False                         False                         False              False                       False                       False                            False                           False                          False                     False                     False                     False                    False                          False                False                         False                        False                             False                       False                         False                                      False                  False                      False             False                              False                             False               False                    False                  False                   False                       False                                    False   \n",
      "7500                  False                       False                               False               False                         False                         False              False                       False                       False                            False                           False                          False                      True                     False                     False                    False                          False                False                         False                        False                             False                       False                          True                                      False                  False                      False             False                              False                             False               False                    False                  False                   False                       False                                    False   \n",
      "\n",
      "      hP 65 Tri-color ink  iFixit Pro Tech Toolkit  iPhone 11 case  iPhone 12 Charger cable  iPhone 12 Pro case  iPhone 12 case  iPhone Charger Cable Anker 6ft  iPhone SE case  nonda USB C to USB Adapter  seenda Wireless mouse  \n",
      "0                   False                    False           False                    False               False           False                           False           False                        True                  False  \n",
      "1                   False                    False           False                    False               False           False                           False           False                       False                  False  \n",
      "2                   False                    False           False                    False               False           False                           False           False                       False                  False  \n",
      "3                   False                    False           False                    False               False           False                           False           False                       False                  False  \n",
      "4                   False                    False           False                    False               False           False                           False           False                       False                  False  \n",
      "...                   ...                      ...             ...                      ...                 ...             ...                             ...             ...                         ...                    ...  \n",
      "7496                False                    False           False                    False               False           False                           False           False                       False                  False  \n",
      "7497                False                    False           False                    False               False           False                           False           False                       False                  False  \n",
      "7498                False                    False           False                    False               False           False                           False           False                       False                  False  \n",
      "7499                False                    False           False                    False               False           False                           False           False                       False                  False  \n",
      "7500                False                    False           False                    False               False           False                           False           False                       False                  False  \n",
      "\n",
      "[7501 rows x 119 columns]\n"
     ]
    }
   ],
   "source": [
    "#Encode our transactions to binary by converting them to an array and then making a dataframe out of it\n",
    "TransEncoder = TransactionEncoder()\n",
    "encoded_array = TransEncoder.fit_transform(master_list)\n",
    "encoded_df = pd.DataFrame(encoded_array, columns=TransEncoder.columns_)\n",
    "print(encoded_df)\n",
    "\n",
    "#Export the dataframe to a .csv file\n",
    "encoded_df.to_csv('encoded_df.csv', index=False)"
   ]
  },
  {
   "attachments": {},
   "cell_type": "markdown",
   "metadata": {},
   "source": [
    "### C2: CODE EXECUTION\n",
    "\n",
    "For continuity and ease of presentation, the code snippets used in this analysis have been included in the rubric sections associated with them, and can be run together at once in this notebook file by clicking the “Run All” button at the top of the window."
   ]
  },
  {
   "attachments": {},
   "cell_type": "markdown",
   "metadata": {},
   "source": [
    "### C3: ASSOCIATION RULES TABLE\n",
    "\n",
    "The following code returns our association rules table using lift as the primary metric, and includes values for support, lift, and confidence for each rule:"
   ]
  },
  {
   "cell_type": "code",
   "execution_count": 106,
   "metadata": {},
   "outputs": [
    {
     "name": "stdout",
     "output_type": "stream",
     "text": [
      "frozenset({'Dust-Off Compressed Gas 2 pack'})\n"
     ]
    }
   ],
   "source": [
    "#We are now ready to run the Apriori algorithm and calculate our support values\n",
    "f_sets = apriori(encoded_df, min_support = 0.03, use_colnames = True)\n",
    "\n",
    "# Return the item with the highest support in the dataset and store it for later\n",
    "max_index = f_sets['support'].idxmax()\n",
    "max_value = f_sets.loc[max_index, 'itemsets']\n",
    "\n",
    "print(max_value)"
   ]
  },
  {
   "attachments": {},
   "cell_type": "markdown",
   "metadata": {},
   "source": [
    "#### Attribution: \n",
    "\n",
    "Apriori function and associated methods used in this assessment are adapted from the following source: https://rasbt.github.io/mlxtend/user_guide/frequent_patterns/apriori/ (Raschka, 2014-2023)"
   ]
  },
  {
   "cell_type": "code",
   "execution_count": 107,
   "metadata": {},
   "outputs": [
    {
     "name": "stdout",
     "output_type": "stream",
     "text": [
      "                               antecedents                             consequents  antecedent support  consequent support   support  confidence      lift  leverage  conviction  zhangs_metric\n",
      "0         (Dust-Off Compressed Gas 2 pack)                          (Apple Pencil)            0.238368            0.179709  0.050927    0.213647  1.188845  0.008090    1.043158       0.208562\n",
      "1                           (Apple Pencil)        (Dust-Off Compressed Gas 2 pack)            0.179709            0.238368  0.050927    0.283383  1.188845  0.008090    1.062815       0.193648\n",
      "2                              (HP 61 ink)                          (Apple Pencil)            0.163845            0.179709  0.033196    0.202604  1.127397  0.003751    1.028711       0.135143\n",
      "3                           (Apple Pencil)                             (HP 61 ink)            0.179709            0.163845  0.033196    0.184718  1.127397  0.003751    1.025603       0.137757\n",
      "4          (Screen Mom Screen Cleaner kit)                          (Apple Pencil)            0.129583            0.179709  0.030796    0.237654  1.322437  0.007509    1.076009       0.280119\n",
      "5                           (Apple Pencil)         (Screen Mom Screen Cleaner kit)            0.179709            0.129583  0.030796    0.171365  1.322437  0.007509    1.050423       0.297236\n",
      "6                  (USB 2.0 Printer cable)                          (Apple Pencil)            0.170911            0.179709  0.036395    0.212949  1.184961  0.005681    1.042232       0.188267\n",
      "7                           (Apple Pencil)                 (USB 2.0 Printer cable)            0.179709            0.170911  0.036395    0.202522  1.184961  0.005681    1.039640       0.190286\n",
      "8       (VIVO Dual LCD Monitor Desk mount)                          (Apple Pencil)            0.174110            0.179709  0.036528    0.209801  1.167446  0.005239    1.038081       0.173666\n",
      "9                           (Apple Pencil)      (VIVO Dual LCD Monitor Desk mount)            0.179709            0.174110  0.036528    0.203264  1.167446  0.005239    1.036592       0.174852\n",
      "10        (Dust-Off Compressed Gas 2 pack)                             (HP 61 ink)            0.238368            0.163845  0.052660    0.220917  1.348332  0.013604    1.073256       0.339197\n",
      "11                             (HP 61 ink)        (Dust-Off Compressed Gas 2 pack)            0.163845            0.238368  0.052660    0.321400  1.348332  0.013604    1.122357       0.308965\n",
      "12  (Nylon Braided Lightning to USB cable)        (Dust-Off Compressed Gas 2 pack)            0.095321            0.238368  0.035729    0.374825  1.572463  0.013007    1.218270       0.402413\n",
      "13        (Dust-Off Compressed Gas 2 pack)  (Nylon Braided Lightning to USB cable)            0.238368            0.095321  0.035729    0.149888  1.572463  0.013007    1.064189       0.477993\n",
      "14               (SanDisk Ultra 64GB card)        (Dust-Off Compressed Gas 2 pack)            0.098254            0.238368  0.040928    0.416554  1.747522  0.017507    1.305401       0.474369\n",
      "15        (Dust-Off Compressed Gas 2 pack)               (SanDisk Ultra 64GB card)            0.238368            0.098254  0.040928    0.171700  1.747522  0.017507    1.088672       0.561638\n",
      "16         (Screen Mom Screen Cleaner kit)        (Dust-Off Compressed Gas 2 pack)            0.129583            0.238368  0.047994    0.370370  1.553774  0.017105    1.209650       0.409465\n",
      "17        (Dust-Off Compressed Gas 2 pack)         (Screen Mom Screen Cleaner kit)            0.238368            0.129583  0.047994    0.201342  1.553774  0.017105    1.089850       0.467950\n",
      "18                   (Stylus Pen for iPad)        (Dust-Off Compressed Gas 2 pack)            0.095054            0.238368  0.033729    0.354839  1.488616  0.011071    1.180529       0.362712\n",
      "19        (Dust-Off Compressed Gas 2 pack)                   (Stylus Pen for iPad)            0.238368            0.095054  0.033729    0.141499  1.488616  0.011071    1.054100       0.430963\n",
      "20      (VIVO Dual LCD Monitor Desk mount)        (Dust-Off Compressed Gas 2 pack)            0.174110            0.238368  0.059725    0.343032  1.439085  0.018223    1.159314       0.369437\n",
      "21        (Dust-Off Compressed Gas 2 pack)      (VIVO Dual LCD Monitor Desk mount)            0.238368            0.174110  0.059725    0.250559  1.439085  0.018223    1.102008       0.400606\n",
      "22         (Screen Mom Screen Cleaner kit)                             (HP 61 ink)            0.129583            0.163845  0.032129    0.247942  1.513276  0.010898    1.111823       0.389677\n",
      "23                             (HP 61 ink)         (Screen Mom Screen Cleaner kit)            0.163845            0.129583  0.032129    0.196094  1.513276  0.010898    1.082736       0.405645\n",
      "24                 (USB 2.0 Printer cable)                             (HP 61 ink)            0.170911            0.163845  0.034395    0.201248  1.228284  0.006393    1.046827       0.224169\n",
      "25                             (HP 61 ink)                 (USB 2.0 Printer cable)            0.163845            0.170911  0.034395    0.209927  1.228284  0.006393    1.049383       0.222275\n",
      "26      (VIVO Dual LCD Monitor Desk mount)                             (HP 61 ink)            0.174110            0.163845  0.039195    0.225115  1.373952  0.010668    1.079070       0.329550\n",
      "27                             (HP 61 ink)      (VIVO Dual LCD Monitor Desk mount)            0.163845            0.174110  0.039195    0.239219  1.373952  0.010668    1.085581       0.325505\n",
      "28               (SanDisk Ultra 64GB card)      (VIVO Dual LCD Monitor Desk mount)            0.098254            0.174110  0.039195    0.398915  2.291162  0.022088    1.373997       0.624943\n",
      "29      (VIVO Dual LCD Monitor Desk mount)               (SanDisk Ultra 64GB card)            0.174110            0.098254  0.039195    0.225115  2.291162  0.022088    1.163716       0.682343\n",
      "30         (Screen Mom Screen Cleaner kit)      (VIVO Dual LCD Monitor Desk mount)            0.129583            0.174110  0.035462    0.273663  1.571779  0.012900    1.137061       0.417935\n",
      "31      (VIVO Dual LCD Monitor Desk mount)         (Screen Mom Screen Cleaner kit)            0.174110            0.129583  0.035462    0.203675  1.571779  0.012900    1.093043       0.440468\n"
     ]
    }
   ],
   "source": [
    "#Filter association rules so only rules with a positive lift are returned, then order by lift value\n",
    "#This will return our association rules table\n",
    "rules = association_rules(f_sets, metric = 'lift', min_threshold = 1.0)\n",
    "print(rules)"
   ]
  },
  {
   "attachments": {},
   "cell_type": "markdown",
   "metadata": {},
   "source": [
    "### C4: TOP THREE RULES\n",
    "\n",
    "The top three association rules in our table sorted by lift are returned by executing the following code:"
   ]
  },
  {
   "cell_type": "code",
   "execution_count": 108,
   "metadata": {},
   "outputs": [
    {
     "name": "stdout",
     "output_type": "stream",
     "text": [
      "                           antecedents                         consequents  antecedent support  consequent support   support  confidence      lift  leverage  conviction  zhangs_metric\n",
      "29  (VIVO Dual LCD Monitor Desk mount)           (SanDisk Ultra 64GB card)            0.174110            0.098254  0.039195    0.225115  2.291162  0.022088    1.163716       0.682343\n",
      "28           (SanDisk Ultra 64GB card)  (VIVO Dual LCD Monitor Desk mount)            0.098254            0.174110  0.039195    0.398915  2.291162  0.022088    1.373997       0.624943\n",
      "15    (Dust-Off Compressed Gas 2 pack)           (SanDisk Ultra 64GB card)            0.238368            0.098254  0.040928    0.171700  1.747522  0.017507    1.088672       0.561638\n"
     ]
    }
   ],
   "source": [
    "lift_rules = rules.sort_values(by='lift', ascending= False)\n",
    "top_3_rules = lift_rules[:3]\n",
    "print(top_3_rules)"
   ]
  },
  {
   "attachments": {},
   "cell_type": "markdown",
   "metadata": {},
   "source": [
    "### D1: SIGNIFICANCE OF SUPPORT, LIFT, AND CONFIDENCE SUMMARY\n",
    "\n",
    "In our analysis, we returned the top three association rules, filtered by lift. The first two rules feature the same two items, with the antecedents and consequents reversed. We will now explain the support, lift, and confidence values of our top three association rules.\n",
    "\n",
    "We can define support as the percentage of observations that demonstrate the given rule agains the total number of observations. As we can see in our code output, our top three rules demonstrate support levels of .039195, .039195, and .040928.\n",
    "\n",
    "Life indicates whether or not a statistically significant relationship exists between the presence of two items in a given purchase order.  A lift value above 1 indicates a positive relationship between the items, a value below 1 indicates a negative relationship (meaning the presence of the antecedent item makes a transaction less likely to contain the consequent item), and a value at or very near 1 indicates no significant relationship. In our results, our top three rules demonstrate lift values of 2.291162, 2.291162, and 1.747522.\n",
    "\n",
    "Confidence refers to the frequency of transactions in which the consequent item appears when the antecedent item is present, making it a functional measure of relative consequent support within the antecedent-supported subset of the total dataset. In our top three rules, the confidence levels are .225115, .398915, and .171700."
   ]
  },
  {
   "attachments": {},
   "cell_type": "markdown",
   "metadata": {},
   "source": [
    "### Now we will execute the code to conclude our own analysis and answer our research question."
   ]
  },
  {
   "cell_type": "code",
   "execution_count": 109,
   "metadata": {},
   "outputs": [
    {
     "name": "stdout",
     "output_type": "stream",
     "text": [
      "                         antecedents                         consequents  antecedent support  consequent support   support  confidence      lift  leverage  conviction  zhangs_metric\n",
      "21  (Dust-Off Compressed Gas 2 pack)  (VIVO Dual LCD Monitor Desk mount)            0.238368            0.174110  0.059725    0.250559  1.439085  0.018223    1.102008       0.400606\n",
      "10  (Dust-Off Compressed Gas 2 pack)                         (HP 61 ink)            0.238368            0.163845  0.052660    0.220917  1.348332  0.013604    1.073256       0.339197\n",
      "0   (Dust-Off Compressed Gas 2 pack)                      (Apple Pencil)            0.238368            0.179709  0.050927    0.213647  1.188845  0.008090    1.043158       0.208562\n",
      "17  (Dust-Off Compressed Gas 2 pack)     (Screen Mom Screen Cleaner kit)            0.238368            0.129583  0.047994    0.201342  1.553774  0.017105    1.089850       0.467950\n",
      "15  (Dust-Off Compressed Gas 2 pack)           (SanDisk Ultra 64GB card)            0.238368            0.098254  0.040928    0.171700  1.747522  0.017507    1.088672       0.561638\n"
     ]
    }
   ],
   "source": [
    "ant_df = rules[rules['antecedents'] == {'Dust-Off Compressed Gas 2 pack'}]\n",
    "final_df = ant_df.sort_values(by='confidence', ascending= False)\n",
    "print(final_df.head())"
   ]
  },
  {
   "attachments": {},
   "cell_type": "markdown",
   "metadata": {},
   "source": [
    "### D2: PRACTICAL SIGNIFICANCE OF FINDINGS\n",
    "\n",
    "In answering our research question, we found that the item that appeared most frequently in transactions was ‘Dust-Off Compressed Gas 2 pack.’ When association rules were selected using this item as the antecedent, the top 5 rules returned when sorted by confidence were ‘VIVO dual LCD Monitor Desk mount,’ ‘HP 61 ink,’ ‘Apple Pencil,’ ‘Screen Mom Screen Cleaner kit,’ and ‘SanDisk Ultra 64 GB card.’ The rules associated with these relationships exhibited support levels ranging from .040928 to .059725, lift from 1.188845 to 1.747522, and confidence levels from .171700 to .250559\n",
    "\n",
    "None of these results are terribly extreme in nature, but they do demonstrate the existence of statistically significant relationships between the presence of these items in a given order. They indicate that these rules occur in roughly 4-5% of total transactions, have a moderate positive strength in their association, and have a 17-25% to be demonstrated when ‘Dust-Off Compressed Gas 2 pack’ is purchased."
   ]
  },
  {
   "attachments": {},
   "cell_type": "markdown",
   "metadata": {},
   "source": [
    "### D3: COURSE OF ACTION\n",
    "\n",
    "Based on the results of this analysis, I would recommend that modest discounts are considered as customer incentives for these items in particular to bolster customer satisfaction and loyalty. THe discounts could be structured to apply only when 2 or more of the associated items are purchased to maximize impulse buying, and further market basket analyses could be conducted to explore rules related to other frequently-occurring items, following the same formula of incentivizing common combinations of items alongside items that demonstrate the highest levels of antecedent support within the greater transaction dataset."
   ]
  },
  {
   "attachments": {},
   "cell_type": "markdown",
   "metadata": {},
   "source": [
    "### E: PANOPTO RECORDING\n",
    "\n",
    "A brief demonstration video of this code, including a description of the software environment used to develop it, has been recorded via Panopto and submitted for evaluation in conjunction with this Jupyter notebook per instructions in the WGU submission portal.\n",
    "\n",
    "The software used in the production of this code is as follows:\n",
    "\n",
    "Operating System: Windows 11 Home<br>\n",
    "Code Editor and Integrated Development Environment: Microsoft Visual Studio Code<br>\n",
    "Browser used for research and submission: Google Chrome<br>\n",
    "Spreadsheet editor: Microsoft Excel"
   ]
  },
  {
   "attachments": {},
   "cell_type": "markdown",
   "metadata": {},
   "source": [
    "### F: WEB SOURCES\n",
    "\n",
    "Raschka, S. (2014-2023). Apriori: Frequent Itemsets Via the Apriori Algorithm. https://rasbt.github.io/mlxtend/user_guide/frequent_patterns/apriori/"
   ]
  },
  {
   "attachments": {},
   "cell_type": "markdown",
   "metadata": {},
   "source": [
    "### G: SOURCES\n",
    "\n",
    "Kamara, K. (2022). Market Basket Analysis in Theory. Western Governors University, College of Information Technology. https://wgu.hosted.panopto.com/Panopto/Pages/Viewer.aspx?id=9541a29b-2f14-4c5d-9d86-af030005bcf6."
   ]
  }
 ],
 "metadata": {
  "kernelspec": {
   "display_name": "Python 3",
   "language": "python",
   "name": "python3"
  },
  "language_info": {
   "codemirror_mode": {
    "name": "ipython",
    "version": 3
   },
   "file_extension": ".py",
   "mimetype": "text/x-python",
   "name": "python",
   "nbconvert_exporter": "python",
   "pygments_lexer": "ipython3",
   "version": "3.11.1"
  },
  "orig_nbformat": 4
 },
 "nbformat": 4,
 "nbformat_minor": 2
}
