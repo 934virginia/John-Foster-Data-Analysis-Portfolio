{
 "cells": [
  {
   "attachments": {},
   "cell_type": "markdown",
   "metadata": {},
   "source": [
    "# Principal Component Analysis Performance Assessment\n",
    "\n",
    "### John Foster\n",
    "### Department of Information Technology, Western Governors University\n",
    "### D212: Data Mining II\n",
    "### Professor Keiona Middleton\n",
    "### June 12, 2023"
   ]
  },
  {
   "attachments": {},
   "cell_type": "markdown",
   "metadata": {},
   "source": [
    "### A1: PROPOSAL OF QUESTION\n",
    "\n",
    "The research question I have decided to pursue using the Churn dataset is as follows:\n",
    "\n",
    "“How effectively can the dimensionality of continuous variables in the Churn dataset be reduced using principal component analysis to maximize computational efficiency in future analyses?”\n",
    "\n",
    "This research question seeks to provide a way for the organization to reduce infrastructure costs related to data analytics by minimizing the IT resources necessary in performing analysis tasks. This is accomplished because dimensionality reduction in a dataset translates directly to simpler model calculations and faster execution, enabling scalable automation and more affordable costs if on-demand cloud computing solutions are utilized for analysis."
   ]
  },
  {
   "attachments": {},
   "cell_type": "markdown",
   "metadata": {},
   "source": [
    "### A2: DEFINED GOAL\n",
    "\n",
    "As mentioned above, my task in this analysis is to utilize principal component analysis, hereafter referred to as PCA, to reduce the dimensionality of continuous variables in the churn dataset. I am doing this for the purpose of minimizing the complexity of the dataset and maximizing computational efficiency in future organizational analyses performed on this dataset.\n",
    "\n",
    "The primary metric used to determine the success of our analysis will be the amount of variance explained in the original variables by the reduced number of components. Our goal will be to return a total variance score above 75% while selecting components with eigenvalues above 1."
   ]
  },
  {
   "attachments": {},
   "cell_type": "markdown",
   "metadata": {},
   "source": [
    "### B1: EXPLANATION OF PCA\n",
    "\n",
    "PCA is a common dimensionality reduction technique that takes a number of continuous variables in a dataset and endeavors to reduce their number while retaining as much of the variance of the original features as possible (Larose & Larose, 2019, p. 175).\n",
    "\n",
    "The first step of this process is to standardize the features selected for PCA. This is accomplished by re-expressing the value of each data point in each feature using the following equation:\n",
    "\n",
    "standardized value = (raw value - mean of the feature) / standard deviation of the feature\n",
    "\n",
    "The next step is to generate a covariance matrix for every pairing of included features. This matrix expresses the dependency and relationship between every pair of features. Covariances are expressible through values of -1 to 1, with values close to -1 indicating a negative linear relationship, and values close to 1 indicating a positive linear relationship. A value very near 0 indicates little to no correlation between the features.\n",
    "\n",
    "Next, we calculate the eigenvalues of the matrix. We accomplish this first by calculating their eigenvectors, meaning the axes (specific combinations of weights for each variable) along which the most variance is explained in the original variables. These eigenvectors are evaluated for the amount of total variance that they explain, returning their eigenvalues. In our analysis, we are selecting eigenvectors with an eigenvalue at or above 1. (Larose & Larose, 2019, p. 177). This selection criteria is known as the Kaiser rule. These eigenvectors become our selected principal components.\n",
    "\n",
    "Once we have our final principal components, we then evaluate their explained variance ratios, returning the total amount of variance explained by each component. When these results are summed, we can see how much total variance is explained by all of our chosen components. This final score will be the basis of our evaluation for the success of our PCA with regards to our defined goal of 75%."
   ]
  },
  {
   "attachments": {},
   "cell_type": "markdown",
   "metadata": {},
   "source": [
    "### B2: PCA ASSUMPTION\n",
    "\n",
    "One assumption of PCA is that the statistical relationships between variables are linear in nature. This assumption is critical to the effective derivation of eigenvectors (which are selected to become our final principal components) that maximize the amount of explained variance in the original features. This is because eigenvectors, and the feature-specific weights assigned to the calculations that comprise them, are generated from a covariance matrix, which by definition quantifies the linear relationships between the quantitative features included in a PCA. Essentially, the entire process of principal component analysis is predicated on the existence of linear relationships between numeric features."
   ]
  },
  {
   "attachments": {},
   "cell_type": "markdown",
   "metadata": {},
   "source": [
    "### C1: CONTINUOUS DATASET VARIABLES\n",
    "\n",
    "The continuous variables selected for inclusion in our analysis are as follows:\n",
    "\n",
    "'Lat', 'Lng', 'Population', 'Children', 'Age', 'Income', 'Outage_sec_perweek', 'Email', 'Contacts', 'Yearly_equip_failure', 'Tenure', 'MonthlyCharge', and 'Bandwidth_GB_Year'."
   ]
  },
  {
   "attachments": {},
   "cell_type": "markdown",
   "metadata": {},
   "source": [
    "### C2: STANDARDIZATION OF DATASET VARIABLES\n",
    "\n",
    "We will now process our initial data as we described in section B1 and standardize the continuous variables for use in our PCA. We will then export the cleaned dataset to a .csv file.\n",
    "\n",
    "The following code will be used to process standardize the numeric features in the dataset and export the data:"
   ]
  },
  {
   "cell_type": "code",
   "execution_count": 60,
   "metadata": {},
   "outputs": [],
   "source": [
    "import pandas as pd\n",
    "import numpy as np\n",
    "import matplotlib.pyplot as plt\n",
    "from sklearn.decomposition import PCA"
   ]
  },
  {
   "cell_type": "code",
   "execution_count": 61,
   "metadata": {},
   "outputs": [],
   "source": [
    "pd.set_option('display.max_rows', 500)\n",
    "pd.set_option('display.max_columns', 500)\n",
    "pd.set_option('display.width', 250)\n",
    "\n",
    "df = pd.read_csv('churn_clean.csv')\n",
    "\n",
    "#We will start by making a new dataframe to hold our PCA values.\n",
    "PCA_df = pd.DataFrame()\n",
    "\n",
    "#Create a list of all column names in the dataframe\n",
    "df_cols = df.columns.to_list()\n",
    "\n",
    "#Make a list out of the numeric columns\n",
    "num_cols = ['Lat', \n",
    "            'Lng', \n",
    "            'Population', \n",
    "            'Children', \n",
    "            'Age', \n",
    "            'Income', \n",
    "            'Outage_sec_perweek', \n",
    "            'Email', \n",
    "            'Contacts', \n",
    "            'Yearly_equip_failure', \n",
    "            'Tenure', \n",
    "            'MonthlyCharge', \n",
    "            'Bandwidth_GB_Year']\n",
    "\n",
    "#Copy our natively numeric columns over to our new dataframe from our completed df.\n",
    "for col in num_cols:\n",
    "    PCA_df[col] = df[col]\n",
    "\n",
    "#Standardize our data.\n",
    "pca_norm = (PCA_df - PCA_df.mean()) / PCA_df.std()\n",
    "pca_count = PCA_df.shape[1]\n"
   ]
  },
  {
   "cell_type": "code",
   "execution_count": 62,
   "metadata": {},
   "outputs": [],
   "source": [
    "pca_norm.to_csv('PCA_cleaned.csv', index=False)"
   ]
  },
  {
   "attachments": {},
   "cell_type": "markdown",
   "metadata": {},
   "source": [
    "### D1: PRINCIPAL COMPONENTS\n",
    "\n",
    "The following code returns the covariance matrix of our initial 13 principal components:"
   ]
  },
  {
   "cell_type": "code",
   "execution_count": 63,
   "metadata": {},
   "outputs": [
    {
     "name": "stdout",
     "output_type": "stream",
     "text": [
      "PCA(n_components=13)\n"
     ]
    }
   ],
   "source": [
    "#Return the number of components that will be generated in our analysis.\n",
    "pca = PCA(n_components=pca_count)\n",
    "pca.fit(pca_norm)\n",
    "print(pca)"
   ]
  },
  {
   "cell_type": "code",
   "execution_count": 64,
   "metadata": {},
   "outputs": [
    {
     "name": "stdout",
     "output_type": "stream",
     "text": [
      "['PC1', 'PC2', 'PC3', 'PC4', 'PC5', 'PC6', 'PC7', 'PC8', 'PC9', 'PC10', 'PC11', 'PC12', 'PC13']\n",
      "                           PC1       PC2       PC3       PC4       PC5       PC6       PC7       PC8       PC9      PC10      PC11      PC12      PC13\n",
      "Lat                  -0.023161 -0.714010 -0.031715  0.109414 -0.094872 -0.030887 -0.010719 -0.020375  0.090273  0.018619  0.053958  0.674376  0.001077\n",
      "Lng                   0.007911  0.180879 -0.285753 -0.736871  0.344620 -0.087695 -0.052349 -0.086499 -0.172285 -0.151301 -0.112280  0.375138  0.000788\n",
      "Population           -0.001230  0.653439  0.151916  0.322012 -0.119517  0.098791  0.053682  0.079161 -0.027392  0.055304  0.100818  0.631729 -0.000070\n",
      "Children              0.014244 -0.014267  0.447882 -0.464670 -0.107498  0.130597  0.034812 -0.065531  0.192459  0.437471  0.565626 -0.011794 -0.021597\n",
      "Age                   0.001860  0.052795 -0.443537  0.227235  0.436759 -0.096321 -0.188399  0.093484  0.342892 -0.083596  0.614892 -0.037729  0.022360\n",
      "Income                0.004185 -0.054602  0.195742 -0.041772  0.312779  0.100371  0.773549  0.335467  0.246663 -0.275852 -0.033742  0.006645 -0.000941\n",
      "Outage_sec_perweek    0.005811  0.009174 -0.249550 -0.126214 -0.455981  0.597523  0.051915 -0.184658  0.057056 -0.515406  0.223304 -0.034155  0.000271\n",
      "Email                -0.020020  0.152355 -0.092711 -0.144998 -0.353186 -0.403463  0.003835 -0.125375  0.760622 -0.052146 -0.247985  0.027357  0.000274\n",
      "Contacts              0.004283  0.031043 -0.447906  0.108875  0.011245  0.082442  0.519791 -0.510974 -0.052695  0.494601 -0.028194 -0.011878 -0.000947\n",
      "Yearly_equip_failure  0.017665 -0.007070  0.153686  0.063449  0.420468  0.592380 -0.290766 -0.194665  0.397088  0.143419 -0.376943  0.038880 -0.000083\n",
      "Tenure                0.705211 -0.008913  0.006569  0.026652  0.009197 -0.036725 -0.002190 -0.038433  0.003806 -0.037339  0.005491  0.010393 -0.705254\n",
      "MonthlyCharge         0.040456 -0.004500 -0.404228 -0.136041 -0.218356  0.257205 -0.041495  0.714123  0.060669  0.405280 -0.144376 -0.006021 -0.045766\n",
      "Bandwidth_GB_Year     0.706719 -0.010435  0.008289 -0.002713 -0.021522 -0.012558  0.003902  0.002926  0.002798  0.005673 -0.006102  0.009429  0.706791\n"
     ]
    }
   ],
   "source": [
    "cols = []\n",
    "for i in range(pca_count):\n",
    "    cols.append(\"PC\" + str(i+1))\n",
    "print(cols)\n",
    "loadings = pd.DataFrame(pca.components_.T,\n",
    "     columns=cols,\n",
    "     index=PCA_df.columns)\n",
    "\n",
    "print(loadings)"
   ]
  },
  {
   "attachments": {},
   "cell_type": "markdown",
   "metadata": {},
   "source": [
    "### D2: IDENTIFICATION OF TOTAL NUMBER OF COMPONENTS\n",
    "\n",
    "The following code selects eigenvectors with eigenvalues at or above 1, and returns a total of 6 principal components based on the Kaiser rule:"
   ]
  },
  {
   "cell_type": "code",
   "execution_count": 65,
   "metadata": {},
   "outputs": [
    {
     "data": {
      "image/png": "[encoded data removed]",
      "text/plain": [
       "<Figure size 640x480 with 1 Axes>"
      ]
     },
     "metadata": {},
     "output_type": "display_data"
    }
   ],
   "source": [
    "#Now we can perform the PCA.\n",
    "\n",
    "PCA_df2 = pd.DataFrame(pca.transform(pca_norm), columns=cols)\n",
    "#Generate our covariance matrix.\n",
    "cov_matrix = np.dot(pca_norm.T, pca_norm) / PCA_df.shape[0]\n",
    "#Generate our eigenvalues using our covariance matrix and pca object.\n",
    "eigenvalues = [np.dot(eigenvector.T, np.dot(cov_matrix, eigenvector)) for eigenvector in pca.components_]\n",
    "#Code paraphrased from (Larose & Larose, 2019, p. 179-181)\n",
    "\n",
    "#Visualize the eigenvalues to determine how many components we want to use \n",
    "# and also create a horizontal line at y=1 to determine our cutoff point.\n",
    "\n",
    "plt.plot(eigenvalues)\n",
    "plt.xlabel('number of components')\n",
    "plt.ylabel('eigenvalues')\n",
    "plt.axhline(y=1, color='red')\n",
    "plt.show()"
   ]
  },
  {
   "cell_type": "code",
   "execution_count": 66,
   "metadata": {},
   "outputs": [
    {
     "name": "stdout",
     "output_type": "stream",
     "text": [
      "[1.9945059913117116, 1.23390464654477, 1.0535590324986062, 1.0444855803335102, 1.023083428670593, 1.0105796740381123, 0.9991027291741587, 0.9924766568010988, 0.9843341591240773, 0.9616940372672877, 0.9603032200513495, 0.7352058830233162, 0.005464961161404144]\n"
     ]
    }
   ],
   "source": [
    "print(eigenvalues)"
   ]
  },
  {
   "cell_type": "code",
   "execution_count": 67,
   "metadata": {},
   "outputs": [
    {
     "name": "stdout",
     "output_type": "stream",
     "text": [
      "Final number of principal components: 6\n"
     ]
    }
   ],
   "source": [
    "pca_count = 0\n",
    "for i in eigenvalues:\n",
    "    if i >=1:\n",
    "        pca_count+=1\n",
    "\n",
    "print(\"Final number of principal components: \" + str(pca_count))"
   ]
  },
  {
   "attachments": {},
   "cell_type": "markdown",
   "metadata": {},
   "source": [
    "####Attribution: \n",
    "\n",
    "PCA code and methods used in this assessment are adapted from the following source: https://wgu.hosted.panopto.com/Panopto/Pages/Viewer.aspx?id=7b31791b-24e8-4077-ba1a-af5d0005144c (Middleton, 2022)."
   ]
  },
  {
   "cell_type": "code",
   "execution_count": 68,
   "metadata": {},
   "outputs": [
    {
     "name": "stdout",
     "output_type": "stream",
     "text": [
      "['PC1', 'PC2', 'PC3', 'PC4', 'PC5', 'PC6']\n",
      "                           PC1       PC2       PC3       PC4       PC5       PC6\n",
      "Lat                  -0.023161 -0.714010 -0.031715  0.109414 -0.094872 -0.030887\n",
      "Lng                   0.007911  0.180879 -0.285753 -0.736871  0.344620 -0.087695\n",
      "Population           -0.001230  0.653439  0.151916  0.322012 -0.119517  0.098791\n",
      "Children              0.014244 -0.014267  0.447882 -0.464670 -0.107498  0.130597\n",
      "Age                   0.001860  0.052795 -0.443537  0.227235  0.436759 -0.096321\n",
      "Income                0.004185 -0.054602  0.195742 -0.041772  0.312779  0.100371\n",
      "Outage_sec_perweek    0.005811  0.009174 -0.249550 -0.126214 -0.455981  0.597523\n",
      "Email                -0.020020  0.152355 -0.092711 -0.144998 -0.353186 -0.403463\n",
      "Contacts              0.004283  0.031043 -0.447906  0.108875  0.011245  0.082442\n",
      "Yearly_equip_failure  0.017665 -0.007070  0.153686  0.063449  0.420468  0.592380\n",
      "Tenure                0.705211 -0.008913  0.006569  0.026652  0.009197 -0.036725\n",
      "MonthlyCharge         0.040456 -0.004500 -0.404228 -0.136041 -0.218356  0.257205\n",
      "Bandwidth_GB_Year     0.706719 -0.010435  0.008289 -0.002713 -0.021522 -0.012558\n"
     ]
    }
   ],
   "source": [
    "#Create our PCA class object\n",
    "mod = 0\n",
    "pca = PCA(n_components=pca_count+mod)\n",
    "pca.fit(pca_norm)\n",
    "\n",
    "#Generate our new loadings\n",
    "cols = []\n",
    "for i in range(pca_count+mod):\n",
    "    cols.append(\"PC\" + str(i+1))\n",
    "print(cols)\n",
    "loadings = pd.DataFrame(pca.components_.T,\n",
    "     columns=cols,\n",
    "     index=PCA_df.columns)\n",
    "\n",
    "print(loadings)"
   ]
  },
  {
   "attachments": {},
   "cell_type": "markdown",
   "metadata": {},
   "source": [
    "### D3: TOTAL VARIANCE OF COMPONENTS\n",
    "\n",
    "The following code returns the variance explained by each of our 6 principal components:"
   ]
  },
  {
   "cell_type": "code",
   "execution_count": 69,
   "metadata": {},
   "outputs": [
    {
     "name": "stdout",
     "output_type": "stream",
     "text": [
      "PC1 individual variance contribution: 0.153438881681377\n",
      "PC2 individual variance contribution: 0.094925234565362\n",
      "PC3 individual variance contribution: 0.08105110761065384\n",
      "PC4 individual variance contribution: 0.0803530799490341\n",
      "PC5 individual variance contribution: 0.07870659594194741\n",
      "PC6 individual variance contribution: 0.07774467247017869\n"
     ]
    }
   ],
   "source": [
    "#Return individual variance contributions of our components\n",
    "var_cont = list(pca.explained_variance_ratio_)\n",
    "for i in range(pca_count):\n",
    "    print(cols[i] + ' individual variance contribution: ' + str(var_cont[i]))"
   ]
  },
  {
   "attachments": {},
   "cell_type": "markdown",
   "metadata": {},
   "source": [
    "### D4: TOTAL VARIANCE CAPTURED BY COMPONENTS\n",
    "\n",
    "The following code sums the variances of components returned in part D3 and returns the total variance of the original components captured by our 6 selected components:"
   ]
  },
  {
   "cell_type": "code",
   "execution_count": 70,
   "metadata": {},
   "outputs": [
    {
     "name": "stdout",
     "output_type": "stream",
     "text": [
      "Total variance contribution: 0.566219572218553\n"
     ]
    }
   ],
   "source": [
    "total_var = sum(pca.explained_variance_ratio_)\n",
    "print('Total variance contribution: ' + str(total_var))"
   ]
  },
  {
   "attachments": {},
   "cell_type": "markdown",
   "metadata": {},
   "source": [
    "### D5: SUMMARY OF DATA ANALYSIS\n",
    "\n",
    "As we can see from the results above, with a total of 6 principal components (from an original 13), we can explain 56.622% of the total variance in the original features. This unfortunately falls well below our defined goal of 75%, which leads us to conclude that this analysis was not a success.\n",
    "\n",
    "However, some details in this analysis indicate that we could very easily adjust our selection criteria to meet our goal. As we can see from our Scree plot, there are several eigenvectors that are within .02 of an eigenvalue of 1. This could lead us to recommend further analysis that includes them in our selected components to explore the results further. While including these components would trade away some of the computational efficiency that we sought to achieve in this analysis, they would likely enable us to capture a much higher degree of variance in the data. Ultimately, a re-evaluation of objectives is necessary to determine exactly how much efficiency should be traded for accuracy if this course of action is explored."
   ]
  },
  {
   "attachments": {},
   "cell_type": "markdown",
   "metadata": {},
   "source": [
    "### E: SOURCES OF THIRD-PARTY CODE\n",
    "\n",
    "Middleton, K. (2022). D206 - Webinar 4: Getting Started with PCA - November (2022). Western Governors University, College of Information Technology. https://wgu.hosted.panopto.com/Panopto/Pages/Viewer.aspx?id=7b31791b-24e8-4077-ba1a-af5d0005144c"
   ]
  },
  {
   "attachments": {},
   "cell_type": "markdown",
   "metadata": {},
   "source": [
    "### F: SOURCES\n",
    "\n",
    "Larose, C. D., & Larose, D. T. (2019). Data science using Python and R. ISBN-13: 978-1-119-52684-1."
   ]
  }
 ],
 "metadata": {
  "kernelspec": {
   "display_name": "Python 3",
   "language": "python",
   "name": "python3"
  },
  "language_info": {
   "codemirror_mode": {
    "name": "ipython",
    "version": 3
   },
   "file_extension": ".py",
   "mimetype": "text/x-python",
   "name": "python",
   "nbconvert_exporter": "python",
   "pygments_lexer": "ipython3",
   "version": "3.11.1"
  },
  "orig_nbformat": 4
 },
 "nbformat": 4,
 "nbformat_minor": 2
}
