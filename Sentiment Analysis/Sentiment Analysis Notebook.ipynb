{
 "cells": [
  {
   "attachments": {},
   "cell_type": "markdown",
   "metadata": {},
   "source": [
    "# Sentiment Analysis Performance Assessment\n",
    "\n",
    "### John Foster\n",
    "### Department of Information Technology, Western Governors University\n",
    "### D213: Advanced Data Analytics\n",
    "### Professor William Sewell\n",
    "### June 30, 2023"
   ]
  },
  {
   "attachments": {},
   "cell_type": "markdown",
   "metadata": {},
   "source": [
    "### A1: RESEARCH QUESTION\n",
    "\n",
    "The research question that I have elected to pursue in this analysis is as follows:\n",
    "\n",
    "“With what degree of accuracy can we utilize a recurrent neural network (RNN) to perform a sentiment analysis on movie reviews sourced from IMDb?”\n",
    "\n",
    "From a business perspective, this type of analysis would be extremely relevant to film and television production studios for the purposes of market research. By using an effectively generalized sentiment analysis pipeline to evaluate feedback on specific films and shows, studios gain the ability to plan productions that cater to emerging market trends based on audience sentiment toward specific genres and artists."
   ]
  },
  {
   "attachments": {},
   "cell_type": "markdown",
   "metadata": {},
   "source": [
    "### A2: OBJECTIVES OR GOALS\n",
    "\n",
    "The primary goal of this analysis will be to develop an RNN utilizing the IMDb review dataset that demonstrates at least 75% accuracy on a testing subset of the data on which it was not trained or validated. This threshold was selected because it represents a reasonable but significant improvement over random accuracy (50%) in a dataset with balanced binary classes.\n",
    "\n",
    "To accomplish this, we will construct a basic model architecture using an embedding layer, a bidirectional LSTM layer, a dropout layer, and a sigmoidally-activated dense layer to produce our final output.\n",
    "\n",
    "We will perform a grid search to determine the optimal hyperparameters within this base model architecture, and our final model selection will rely upon average accuracy on our test dataset over 10 iterations using the same hyperparameter configuration."
   ]
  },
  {
   "attachments": {},
   "cell_type": "markdown",
   "metadata": {},
   "source": [
    "### A3: PRESCRIBED NETWORK\n",
    "\n",
    "The type of neural network that we will be using to perform this sentiment analysis is a Recurrent Neural Network (RNN). Unlike a feedforward network, an RNN uses memory to maintain a running internal state in its calculations, which allows it to effectively understand context and temporal patterns in its conceptualization of sequenced data. This contextual understanding makes an RNN a highly effective tool in natural language processing, as the meaning of an individual word can so drastically change based on the presence of and relative position to other words in a statement. "
   ]
  },
  {
   "attachments": {},
   "cell_type": "markdown",
   "metadata": {},
   "source": [
    "### B1: DATA EXPLORATION\n",
    "\n",
    "Before we can build our model, we must perform exploratory analysis on our input data. We will first return a count of all special character combinations found in our sentence list using the following code:"
   ]
  },
  {
   "cell_type": "code",
   "execution_count": 144,
   "metadata": {},
   "outputs": [
    {
     "name": "stderr",
     "output_type": "stream",
     "text": [
      "[nltk_data] Downloading package wordnet to\n",
      "[nltk_data]     C:\\Users\\johnf\\AppData\\Roaming\\nltk_data...\n",
      "[nltk_data]   Package wordnet is already up-to-date!\n",
      "[nltk_data] Downloading package stopwords to\n",
      "[nltk_data]     C:\\Users\\johnf\\AppData\\Roaming\\nltk_data...\n",
      "[nltk_data]   Package stopwords is already up-to-date!\n",
      "[nltk_data] Downloading package punkt to\n",
      "[nltk_data]     C:\\Users\\johnf\\AppData\\Roaming\\nltk_data...\n",
      "[nltk_data]   Package punkt is already up-to-date!\n"
     ]
    },
    {
     "data": {
      "text/plain": [
       "True"
      ]
     },
     "execution_count": 144,
     "metadata": {},
     "output_type": "execute_result"
    }
   ],
   "source": [
    "#Call our random seeds for reproducibility\n",
    "import random\n",
    "random.seed(0)\n",
    "from numpy.random import seed\n",
    "seed(0)\n",
    "from tensorflow.random import set_seed\n",
    "set_seed(0)\n",
    "\n",
    "#Load our libraries and packages\n",
    "import numpy as np\n",
    "import tensorflow as tf\n",
    "import pandas as pd\n",
    "import matplotlib.pyplot as plt\n",
    "from sklearn.metrics import confusion_matrix, roc_curve, auc\n",
    "from sklearn.metrics import precision_score, recall_score, f1_score\n",
    "import seaborn as sns\n",
    "from tensorflow.keras.preprocessing import sequence\n",
    "from tensorflow.keras.models import Sequential\n",
    "from tensorflow.keras.layers import Embedding, Bidirectional, LSTM, Dense, Dropout\n",
    "from tensorflow.keras.preprocessing.text import Tokenizer\n",
    "from tensorflow.keras.callbacks import EarlyStopping, ModelCheckpoint\n",
    "from sklearn.model_selection import train_test_split, GridSearchCV\n",
    "import re\n",
    "import nltk\n",
    "from nltk.stem import WordNetLemmatizer\n",
    "from nltk.corpus import stopwords\n",
    "\n",
    "#download our necessary wordsets for execution of various nltk functions\n",
    "nltk.download('wordnet')\n",
    "nltk.download('stopwords')\n",
    "nltk.download('punkt')\n"
   ]
  },
  {
   "cell_type": "code",
   "execution_count": 145,
   "metadata": {},
   "outputs": [],
   "source": [
    "#Data format per line (observation) is as follows:\n",
    "#'sentence'\\t'score'\\n\n",
    "\n",
    "sentence_list = []\n",
    "score_list = []\n",
    "\n",
    "#Read our data\n",
    "with open('imdb_labelled.txt', 'r', encoding='utf8') as f:\n",
    "    text = f.readlines()\n",
    "\n",
    "#Split our lines into sentence and score\n",
    "for i in text:\n",
    "    sentence_list.append(i.split('\\t')[0])\n",
    "    score_list.append(int(i.split('\\t')[1].split('\\n')[0]))"
   ]
  },
  {
   "cell_type": "code",
   "execution_count": 146,
   "metadata": {},
   "outputs": [
    {
     "name": "stdout",
     "output_type": "stream",
     "text": [
      "Unusual characters and their counts:\n",
      "---\n",
      ", : 637\n",
      "- : 142\n",
      ". : 900\n",
      "& : 9\n",
      "... : 29\n",
      "' : 332\n",
      "\" : 72\n",
      " : 5\n",
      "? : 10\n",
      "; : 11\n",
      "/ : 20\n",
      ": : 23\n",
      "*** : 3\n",
      "é : 4\n",
      "( : 49\n",
      "\"), : 1\n",
      "), : 7\n",
      "! : 75\n",
      ") : 34\n",
      "\". : 6\n",
      "!! : 3\n",
      "$ : 1\n",
      "). : 9\n",
      ".... : 3\n",
      "-- : 13\n",
      "!, : 1\n",
      "** : 1\n",
      "+! : 1\n",
      "+ : 2\n",
      ":) : 2\n",
      "\") : 1\n",
      ",( : 1\n",
      "% : 1\n",
      "'. : 2\n",
      "!). : 1\n",
      "å : 1\n",
      ".. : 1\n",
      " : 1\n",
      "\", : 1\n",
      "............. : 1\n",
      "........ : 1\n",
      "??? : 1\n",
      "...\" : 1\n",
      "\".... : 1\n",
      ",\" : 1\n",
      "?! : 1\n",
      "?-- : 1\n",
      ";) : 1\n"
     ]
    }
   ],
   "source": [
    "#Evaluate the sentences for unusual characters that would affect our analysis\n",
    "unusual_chars = re.compile(r\"[^a-zA-Z0-9\\s]+\")\n",
    "unusual_chars_count = {}\n",
    "\n",
    "#Make a \n",
    "for sentence in sentence_list:\n",
    "    unusual_chars_found = unusual_chars.findall(sentence)\n",
    "    for char in unusual_chars_found:\n",
    "        if char not in unusual_chars_count:\n",
    "            unusual_chars_count[char] = 1\n",
    "        else:\n",
    "            unusual_chars_count[char] += 1\n",
    "\n",
    "print('Unusual characters and their counts:')\n",
    "print('---')\n",
    "for char, count in unusual_chars_count.items():\n",
    "    print(str(char) + ' : ' + str(count))\n",
    "\n"
   ]
  },
  {
   "attachments": {},
   "cell_type": "markdown",
   "metadata": {},
   "source": [
    "Next we will evaluate the total vocabulary size of the sentence list. This is an important step that will have an impact on the final complexity of our RNN model.  As a point of note, we will actually perform this step again using functions and methods native to the Tokenizer class after we lemmatize the words in the sentence list and remove all stop words. The initial evaluation for vocabulary size will be performed by executing the following code:"
   ]
  },
  {
   "cell_type": "code",
   "execution_count": 147,
   "metadata": {},
   "outputs": [
    {
     "name": "stdout",
     "output_type": "stream",
     "text": [
      "Vocabulary size: 3133\n"
     ]
    }
   ],
   "source": [
    "# Combine all sentences into a single string\n",
    "text = ' '.join(sentence_list)\n",
    "#Tokenize our words\n",
    "words = tf.keras.preprocessing.text.Tokenizer()\n",
    "words.fit_on_texts(sentence_list)\n",
    "#Get our unique vocabulary list\n",
    "vocab = set(words.word_index.keys())\n",
    "#store the length of the list\n",
    "vocab_size = len(vocab)\n",
    "\n",
    "#Return our INITIAL vocabulary size BEFORE processing\n",
    "print(f\"Vocabulary size: {vocab_size}\")\n"
   ]
  },
  {
   "attachments": {},
   "cell_type": "markdown",
   "metadata": {},
   "source": [
    "Now we will perform an initial analysis for the embedding length of each word. This is necessary to ensure that there are enough character spaces so as not to truncate or confuse any important words when we tokenize them. Again, we will repeat this step after the sentences have been filtered for stop words and lemmatized, as they will ultimately change the results of our final word embedding length. The initial evaluation will be performed by executing the following code:"
   ]
  },
  {
   "cell_type": "code",
   "execution_count": 148,
   "metadata": {},
   "outputs": [
    {
     "name": "stdout",
     "output_type": "stream",
     "text": [
      "Average word length: 6.547717842323651\n",
      "Proposed embedding length: 7\n"
     ]
    }
   ],
   "source": [
    "# Combine all sentences into a single string\n",
    "text = ' '.join(sentence_list)\n",
    "\n",
    "# Tokenize the text into words\n",
    "words = tf.keras.preprocessing.text.Tokenizer()\n",
    "words.fit_on_texts(sentence_list)\n",
    "\n",
    "# Calculate the average word length\n",
    "total_length = sum(len(word) for word in words.word_index.keys())\n",
    "average_length = total_length / len(words.word_index.keys())\n",
    "\n",
    "# Evaluate the proposed embedding length\n",
    "embedding_length = int(average_length) + 1\n",
    "\n",
    "#Return our INITIAL counts of average word length and proposed embedding length BEFORE processing\n",
    "print(f\"Average word length: {average_length}\")\n",
    "print(f\"Proposed embedding length: {embedding_length}\")"
   ]
  },
  {
   "attachments": {},
   "cell_type": "markdown",
   "metadata": {},
   "source": [
    "Next we will generate our maximum proposed maximum sequence length based on our current unprocessed data. We will perform this step again after lemmatization and filtering for stop words. We do this to determine how many spaces for individual tokenized words we should reserve for embedding in our RNN model.\n",
    "\n",
    "We can accomplish this step by executing the following code:"
   ]
  },
  {
   "cell_type": "code",
   "execution_count": 149,
   "metadata": {},
   "outputs": [
    {
     "name": "stdout",
     "output_type": "stream",
     "text": [
      "71\n"
     ]
    }
   ],
   "source": [
    "#make a quick function to return maximum sequence length\n",
    "def get_maximum_sequence_length(data):\n",
    "    max_length = 0\n",
    "    for sequence in data:\n",
    "        words = sequence.split()\n",
    "        length = len(words)\n",
    "        if length > max_length:\n",
    "            max_length = length\n",
    "    return max_length\n",
    "\n",
    "print(get_maximum_sequence_length(sentence_list))"
   ]
  },
  {
   "attachments": {},
   "cell_type": "markdown",
   "metadata": {},
   "source": [
    "### B2: TOKENIZATION\n",
    "\n",
    "At this point, we must elaborate on some additional steps that are necessary to perform before we can tokenize our data. First, we will effectively drop all punctuation contained in our sentence lists to reduce the vocabulary size of the data. Worth noting is that we will handle the “-” character by replacing it with a space in order to further reduce the vocabulary size of the model. Next we will make all characters in the sentence list lowercase to further reduce the vocabulary size of the model. We can accomplish this string recognition using the ‘re’ (regular expression) library. "
   ]
  },
  {
   "cell_type": "code",
   "execution_count": 150,
   "metadata": {},
   "outputs": [],
   "source": [
    "\n",
    "# Remove unusual characters from sentence_list\n",
    "sentence_list_cleaned = []\n",
    "\n",
    "#Replace dashes with spaces and remove all other unusual characters\n",
    "for sentence in sentence_list:\n",
    "    cleaned_sentence = sentence.replace(\"-\", \" \")\n",
    "    cleaned_sentence = unusual_chars.sub('', cleaned_sentence)\n",
    "    sentence_list_cleaned.append(cleaned_sentence)\n",
    "\n",
    "sentence_list = sentence_list_cleaned\n",
    "\n",
    "\n",
    "#Re-evaluate for filtered characters\n",
    "unusual_chars = re.compile(r\"[^a-zA-Z0-9\\s]+\")\n",
    "unusual_chars_count = {}\n",
    "\n",
    "for sentence in sentence_list:\n",
    "    unusual_chars_found = unusual_chars.findall(sentence)\n",
    "    for char in unusual_chars_found:\n",
    "        if char not in unusual_chars_count:\n",
    "            unusual_chars_count[char] = 1\n",
    "        else:\n",
    "            unusual_chars_count[char] += 1\n",
    "\n",
    "#Make an assertion check to ensure the operation was successful\n",
    "assert len(unusual_chars_count.items()) == 0\n"
   ]
  },
  {
   "attachments": {},
   "cell_type": "markdown",
   "metadata": {},
   "source": [
    "At this time, we will create and execute functions to lemmatize the words in the sentences and remove all stop words. Lemmatization involves reducing the expressions of different words to their base forms (called lemma) in order to unify their various grammatical expressions. Stop words, on the other hand are extremely common words found in a language that are more related to linguistic syntax than actual meaning in a given text, including various prepositions and articles such as “a,” “in,” and “the.” These steps are accomplished by executing the following code using methods contained in the ntlk library:"
   ]
  },
  {
   "cell_type": "code",
   "execution_count": 151,
   "metadata": {},
   "outputs": [
    {
     "name": "stdout",
     "output_type": "stream",
     "text": [
      "slow moving aimless movie distressed drifting young man\n"
     ]
    }
   ],
   "source": [
    "#get our list of stop words for filtering\n",
    "english_stop_words = stopwords.words('english')\n",
    "\n",
    "processed_list = []\n",
    "#Make our text lower case\n",
    "for sentence in sentence_list:\n",
    "    sentence = sentence.lower()\n",
    "    processed_list.append(sentence)\n",
    "\n",
    "#define our lemmatization and stop word removal functions\n",
    "def get_lemmatized_text(corpus):\n",
    "    lemmatizer = WordNetLemmatizer()\n",
    "    return [' '.join([lemmatizer.lemmatize(word) for word in review.split()]) for review in corpus]\n",
    "\n",
    "def remove_stop_words(corpus):\n",
    "    removed_stop_words = []\n",
    "    for sentence in corpus:\n",
    "        removed_stop_words.append(\n",
    "            ' '.join([word for word in sentence.split() if word not in english_stop_words])\n",
    "        )\n",
    "    return removed_stop_words\n",
    "\n",
    "#Execute the functions on our processed list\n",
    "processed_list = remove_stop_words(processed_list)\n",
    "processed_list = get_lemmatized_text(processed_list)\n",
    "\n",
    "#Print an example\n",
    "print(processed_list[0])\n"
   ]
  },
  {
   "attachments": {},
   "cell_type": "markdown",
   "metadata": {},
   "source": [
    "Once we have lemmatized the text and removed stop words, we can now re-evaluate the text for vocabulary size, embedding length, and maximum sequence length using the same methods used before:"
   ]
  },
  {
   "cell_type": "code",
   "execution_count": 152,
   "metadata": {},
   "outputs": [
    {
     "name": "stdout",
     "output_type": "stream",
     "text": [
      "Vocabulary size: 2820\n",
      "Average word length: 6.654255319148936\n",
      "Proposed embedding length: 7\n",
      "max sequence length = 44\n"
     ]
    }
   ],
   "source": [
    "# Combine all sentences into a single string\n",
    "text = ' '.join(processed_list)\n",
    "\n",
    "# Instantiate our tokenizer class object and tokenize the text into words\n",
    "words = tf.keras.preprocessing.text.Tokenizer()\n",
    "words.fit_on_texts(processed_list)\n",
    "\n",
    "# Remove duplicates using the set function to get our unique vocabulary\n",
    "vocab = set(words.word_index.keys())\n",
    "\n",
    "# Calculate the vocabulary size as the length of the total word set\n",
    "vocab_size = len(vocab)\n",
    "\n",
    "# Calculate the average word length\n",
    "total_length = sum(len(word) for word in words.word_index.keys())\n",
    "average_length = total_length / len(words.word_index.keys())\n",
    "\n",
    "# Evaluate the proposed embedding length\n",
    "embedding_length = int(average_length) + 1\n",
    "\n",
    "#Output our observations according to rubric criteria:\n",
    "print(f\"Vocabulary size: {vocab_size}\")\n",
    "print(f\"Average word length: {average_length}\")\n",
    "print(f\"Proposed embedding length: {embedding_length}\")\n",
    "\n",
    "print(\"max sequence length = \" + str(get_maximum_sequence_length(processed_list)))"
   ]
  },
  {
   "attachments": {},
   "cell_type": "markdown",
   "metadata": {},
   "source": [
    "We are now ready to begin tokenization. This process essentially involves breaking down individual words into tokens that can be processed and analyzed through the RNN. This process basically standardizes the representations of these words by enforcing a structured and sequenced format. This allows each word to be distinct in its impact on the overall sentiment of the text.\n",
    "\n",
    "For the actual tokenization process, we instantiate our tokenizer class object (contained in the tf.keras.preprocessing.text module). We then fit the tokenizer object on our processed list of sentences, effectively constructing our vocabulary of tokenized words. These steps will be executed via the following code."
   ]
  },
  {
   "cell_type": "code",
   "execution_count": 153,
   "metadata": {},
   "outputs": [],
   "source": [
    "# Tokenize the sentences\n",
    "tokenizer = tf.keras.preprocessing.text.Tokenizer()\n",
    "tokenizer.fit_on_texts(processed_list)"
   ]
  },
  {
   "attachments": {},
   "cell_type": "markdown",
   "metadata": {},
   "source": [
    "### B3: PADDING PROCESS\n",
    "\n",
    "Next we will convert the sentences to sequences of tokens using the texts_to_sequences function (also from the tensorflow library). Because the sequences all need to be of the same length, we next use the pad_sequences function (from tensorflow) to pad shorter sequences with zeroes at the start of each sequence in order to make them all of the same length. The code necessary to execute this code can be found below, including a print function to visualize a single padded sequence from our final list:"
   ]
  },
  {
   "cell_type": "code",
   "execution_count": 154,
   "metadata": {},
   "outputs": [
    {
     "name": "stdout",
     "output_type": "stream",
     "text": [
      "[   0    0    0    0    0    0    0    0    0    0    0    0    0    0\n",
      "    0    0    0    0    0    0    0    0    0    0    0    0    0    0\n",
      "    0    0    0    0    0    0    0    0  204  314 1068    1 1069 1070\n",
      "  315   71]\n"
     ]
    }
   ],
   "source": [
    "#Generate our sequences of tokenized words\n",
    "sequences = tokenizer.texts_to_sequences(processed_list)\n",
    "# Pad sequences to a fixed length\n",
    "maxlen = max(len(seq) for seq in sequences)\n",
    "padded_sequences = sequence.pad_sequences(sequences, maxlen=maxlen)\n",
    "#Make an array out of our scores for use later\n",
    "scores = np.array(score_list)\n",
    "#generate our vocabulary size\n",
    "vocab_size = len(tokenizer.word_index) + 1\n",
    "\n",
    "#Print the first padded sequence\n",
    "print(padded_sequences[0])"
   ]
  },
  {
   "attachments": {},
   "cell_type": "markdown",
   "metadata": {},
   "source": [
    "### B4: CATEGORIES OF SENTIMENT\n",
    "\n",
    "There will only be two categories of sentiment that we will assign our sentences to: positive and negative. Since this makes our classification binary, our final output error will consist of a Dense layer using sigmoidal activation, returning a value between 0 (negative) and 1 (positive)."
   ]
  },
  {
   "attachments": {},
   "cell_type": "markdown",
   "metadata": {},
   "source": [
    "### B5: STEPS TO PREPARE THE DATA\n",
    "\n",
    "Our final step before constructing and training our model is to determine the ratio by which we will split our data into training, validation, and testing sets. In this analysis, we will choose to use 80% (800 observations) of the data for training, 10% (100 observations) for validation, and 10% (100 observations) for testing, as this is considered to be an industry standard splitting criteria (Bahetti, 2021). \n",
    "\n",
    "The code to split the datasets can be found below:\n"
   ]
  },
  {
   "cell_type": "code",
   "execution_count": 155,
   "metadata": {},
   "outputs": [],
   "source": [
    "#Create a dataframe and load our scores into it\n",
    "df = pd.DataFrame()\n",
    "df['score'] = scores\n",
    "\n",
    "#Reshape our sequences for storage in dataframe\n",
    "reshaped_array = padded_sequences.reshape(1000, 44, 1)\n",
    "# Create a list to hold our sequences\n",
    "sequence_list = []\n",
    "\n",
    "#Make each sequence its own list value\n",
    "for sequence in reshaped_array:\n",
    "    sequence_list.append(sequence)\n",
    "\n",
    "#Load the list into a new df column\n",
    "df['sentence'] = sequence_list\n",
    "\n",
    "#Standardize our variable names so we can split the data\n",
    "X = df['sentence']\n",
    "y = df['score']"
   ]
  },
  {
   "cell_type": "code",
   "execution_count": 156,
   "metadata": {},
   "outputs": [],
   "source": [
    "# Split the total dataset into 80% Training and 20% leftover\n",
    "X_train, X_diff, y_train, y_diff = train_test_split(X, y, train_size=.8, random_state=0)\n",
    "#Split the remaining 20% in half, resulting in 10% of the total data in the validation set, \n",
    "# and 10% in the testing set\n",
    "X_valid, X_test, y_valid, y_test = train_test_split(X_diff, y_diff, train_size=.5, random_state=0)"
   ]
  },
  {
   "attachments": {},
   "cell_type": "markdown",
   "metadata": {},
   "source": [
    "### B6: PREPARED DATA SET\n",
    "\n",
    "The following code exports a copy of the full prepared dataset. We have also included the code necessary to convert the pandas series objects back to their appropriate numpy array shapes for use in the RNN model."
   ]
  },
  {
   "cell_type": "code",
   "execution_count": 157,
   "metadata": {},
   "outputs": [],
   "source": [
    "# Save dataframe to CSV\n",
    "df.to_csv('sentiment_clean.csv')"
   ]
  },
  {
   "cell_type": "code",
   "execution_count": 158,
   "metadata": {},
   "outputs": [],
   "source": [
    "# Convert the pandas series objects back to numpy arrays\n",
    "X_train = np.array(X_train.values.tolist()).reshape(X_train.shape[0], 44, 1)\n",
    "y_train = np.array(y_train.values.tolist()).reshape(y_train.shape[0], 1)\n",
    "X_valid = np.array(X_valid.values.tolist()).reshape(X_valid.shape[0], 44, 1)\n",
    "y_valid = np.array(y_valid.values.tolist()).reshape(y_valid.shape[0], 1)\n",
    "X_test = np.array(X_test.values.tolist()).reshape(X_test.shape[0], 44, 1)\n",
    "y_test = np.array(y_test.values.tolist()).reshape(y_test.shape[0], 1)"
   ]
  },
  {
   "attachments": {},
   "cell_type": "markdown",
   "metadata": {},
   "source": [
    "### C1: MODEL SUMMARY\n",
    "\n",
    "Before we can provide a model summary, we will first perform a grid search in order to determine optimal hyperparameters for this model. The hyperparameters that we will be evaluating will be the number of node in the embedding layer, the number of nodes in the lstm layer, and the ratio of the dropout layer. We opted to create our own grid search rather than using sklearn’s implementation as the KerasClassifier wrapper necessitated by that method introduced several limitations in how we could customize the hyperparameter search. We will search for the optimal combination of hyperparameters using the following code:"
   ]
  },
  {
   "cell_type": "code",
   "execution_count": 159,
   "metadata": {},
   "outputs": [],
   "source": [
    "#Define our grid search according to the hyperparameters we are seeking to optimize\n",
    "def grid_search_custom(param_grid):\n",
    "    #Import global variables\n",
    "    global X_train\n",
    "    global y_train\n",
    "    global X_valid\n",
    "    global y_valid\n",
    "    global vocab_size\n",
    "\n",
    "    #Declare our running best validation accuracy and best configuration of hyperparameters\n",
    "    best_valid_accuracy = 0\n",
    "    best_hyperparameters = {'embedding_nodes': 0,\n",
    "                            'lstm_nodes': 0,\n",
    "                            'dropout_rate': 0\n",
    "                            }\n",
    "\n",
    "    #define our early stopping callback to prevent overfitting\n",
    "    early_stop = EarlyStopping(monitor='val_accuracy', patience=3, restore_best_weights=True)\n",
    "\n",
    "    #Create our nested for loops and train each hyperparameter combination 5 times each\n",
    "    for i in range(len(param_grid['embedding_nodes'])):\n",
    "        for j in range(len(param_grid['lstm_nodes'])):\n",
    "            for k in range(len(param_grid['dropout_rate'])):\n",
    "                #Create a running total of summed accuracy scores\n",
    "                sum_accuracy = 0\n",
    "                for l in range(5):\n",
    "                    # Build the model for testing using values pulled from param_grid dict lists by index\n",
    "                    model = Sequential()\n",
    "                    model.add(Embedding(vocab_size, param_grid['embedding_nodes'][i]))\n",
    "                    model.add(Bidirectional(LSTM(param_grid['lstm_nodes'][j])))\n",
    "                    #Code adapted from https://keras.io/api/layers/recurrent_layers/bidirectional/\n",
    "                    model.add(Dropout(param_grid['dropout_rate'][k]))\n",
    "                    model.add(Dense(1, activation=\"sigmoid\"))\n",
    "\n",
    "                    # Compile the model\n",
    "                    model.compile(loss=\"binary_crossentropy\",\n",
    "                                optimizer=\"adam\",\n",
    "                                metrics=[\"accuracy\"])\n",
    "\n",
    "                    # Train the model\n",
    "                    model.fit(X_train, y_train,\n",
    "                            batch_size=32,\n",
    "                            epochs=10,  # Increase the number of epochs\n",
    "                            callbacks=[early_stop],\n",
    "                            validation_data=(X_valid, y_valid))\n",
    "\n",
    "                    # Evaluate the model on the validation set\n",
    "                    valid_loss, valid_accuracy = model.evaluate(X_valid, y_valid)\n",
    "                    #Add the accuracy score to the summed total declared outside the loop\n",
    "                    sum_accuracy += valid_accuracy\n",
    "                #Divide the summed accuracy scores by the total number of tests (5) to get average validation accuracy\n",
    "                avg_accuracy = sum_accuracy/5\n",
    "                #Update the saved configuration for the optimal model and the best accuracy score if the model outperforms it\n",
    "                if avg_accuracy > best_valid_accuracy:\n",
    "                    best_valid_accuracy = avg_accuracy\n",
    "                    best_hyperparameters['embedding_nodes'] = param_grid['embedding_nodes'][i]\n",
    "                    best_hyperparameters['lstm_nodes'] = param_grid['lstm_nodes'][j]\n",
    "                    best_hyperparameters['dropout_rate'] = param_grid['dropout_rate'][k]\n",
    "    #Return the dict of the optimal configuration\n",
    "    return best_hyperparameters\n",
    "\n",
    "\n"
   ]
  },
  {
   "cell_type": "code",
   "execution_count": 160,
   "metadata": {},
   "outputs": [],
   "source": [
    "#Define our grid of parameters to evaluate in our grid search\n",
    "param_grid = {\n",
    "    'embedding_nodes': [32, 64, 128, 256],\n",
    "    'lstm_nodes': [32, 64, 128, 256],\n",
    "    'dropout_rate': [0.1, 0.3, 0.5, 0.7]\n",
    "}\n",
    "\n",
    "#Simple boolean value to turn the grid search on or off in script\n",
    "#Default behavior is False so that the script can be evaluated externally\n",
    "#This prevents the script taking multiple hours to run to completion\n",
    "grid_search = False\n",
    "\n",
    "if grid_search == True:\n",
    "    hyperparams = grid_search_custom(param_grid)\n",
    "    print(hyperparams)"
   ]
  },
  {
   "attachments": {},
   "cell_type": "markdown",
   "metadata": {},
   "source": [
    "As a point of note, the above code has been disabled by default because the search took several hours to complete successfully. Our best model had 256 embedding layer nodes, 32 LSTM nodes, and a .5 dropout rate.\n",
    "\n",
    "The following code can now be executed to output our final model summary:\n"
   ]
  },
  {
   "attachments": {},
   "cell_type": "markdown",
   "metadata": {},
   "source": [
    "### C2: NETWORK ARCHITECTURE\n",
    "\n",
    "Our final model has 4 total layers: an embedding layer that stores and represents our input data of tokenized and padded sentence sequences, a bidirectional LSTM layer to process the sequences in both directions to capture contextual patterns within the sequences, a dropout layer to zero out a proportion of the output of the LSTM layer and improve generalization by mitigating overfitting, and a final dense layer using sigmoidal activation and a single output node to accomplish the final binary classification of our sentiment analysis.\n",
    "\n",
    "As we can see from our model summary, the total number of parameters in the model is 796,225. This number represents the total sum of weights and biases across all layers of the RNN model. The iterative tuning of these parameters based on the model’s predictions during training epochs are ultimately what improve the final predictive accuracy of the model."
   ]
  },
  {
   "cell_type": "code",
   "execution_count": 161,
   "metadata": {},
   "outputs": [
    {
     "name": "stdout",
     "output_type": "stream",
     "text": [
      "Model: \"sequential_326\"\n",
      "_________________________________________________________________\n",
      " Layer (type)                Output Shape              Param #   \n",
      "=================================================================\n",
      " embedding_326 (Embedding)   (None, None, 256)         722176    \n",
      "                                                                 \n",
      " bidirectional_326 (Bidirect  (None, 64)               73984     \n",
      " ional)                                                          \n",
      "                                                                 \n",
      " dropout_326 (Dropout)       (None, 64)                0         \n",
      "                                                                 \n",
      " dense_326 (Dense)           (None, 1)                 65        \n",
      "                                                                 \n",
      "=================================================================\n",
      "Total params: 796,225\n",
      "Trainable params: 796,225\n",
      "Non-trainable params: 0\n",
      "_________________________________________________________________\n",
      "None\n"
     ]
    }
   ],
   "source": [
    "#Explicitly define our optimal configuration to avoid running the gridsearch unnecessarily during development and evaluation\n",
    "\n",
    "hyperparams = {'embedding_nodes': 256, \n",
    "                'lstm_nodes': 32, \n",
    "                'dropout_rate': 0.5}\n",
    "\n",
    "                \n",
    "# Build our final model for training\n",
    "model = Sequential()\n",
    "model.add(Embedding(vocab_size, hyperparams['embedding_nodes']))\n",
    "model.add(Bidirectional(LSTM(hyperparams['lstm_nodes'])))\n",
    "#Code adapted from https://keras.io/api/layers/recurrent_layers/bidirectional/\n",
    "model.add(Dropout(hyperparams['dropout_rate']))\n",
    "model.add(Dense(1, activation=\"sigmoid\"))\n",
    "\n",
    "# Compile the model\n",
    "model.compile(loss=\"binary_crossentropy\",\n",
    "              optimizer=\"adam\",\n",
    "              metrics=[\"accuracy\"])\n",
    "\n",
    "print(model.summary())\n"
   ]
  },
  {
   "attachments": {},
   "cell_type": "markdown",
   "metadata": {},
   "source": [
    "### C3: HYPERPARAMETERS\n",
    "\n",
    "Our final model has 4 total layers: an embedding layer with 256 nodes, a bidirectional LSTM layer with 32 nodes, a dropout layer with a rate of .5, and a dense layer utilizing sigmoidal activation with a single output node.\n",
    "\n",
    "We have chosen sigmoidal activation with a single node in our final Dense output layer because this accomplishes our final output goal of returning a value between 0 and 1, thereby allowing us to treat values above or below .5 as predictions of 1 and 0 respectively, which enables us to compare predictions against the sentiment scores of our dataset.\n",
    "\n",
    "The remaining node counts were determined through a grid search function that we described above. Ideally, we would expand this search to include other hyperparameters and a wider number of combinations, but as the complexity and computation time increases exponentially for these types of searches as new dimensions are added, we elected to limit our grid search to embedding layer nodes, LSTM nodes, and dropout rate.\n",
    "\n",
    "The loss function we have chosen is binary crossentropy, as it is specifically designed for classification tasks with binary output such as our own sentiment analysis. It accomplishes this by calculating logarithmic loss between predictions and expected output, punishing the model more for larger differences between its decimal output and the expected integer value of 0 or 1.\n",
    "\n",
    "Our optimizer in this analysis was ADAM (Adaptive Moment Estimation). We chose this optimizer because it is recommended as a default optimizer in so many deep learning research analyses, making it a reliable industry standard. This is due to its ease of implementation, fast running time, minimal memory demands, and lack of tuning necessary to effectively deploy (Gupta, 2021).\n",
    "\n",
    "Determining an appropriate stopping criterion for the model was slightly more complicated. In our grid search, we noticed that regardless of hyperparameter tuning, the model’s predictive accuracy on the training set would reach 99% somewhere between epoch 5 and 10, and validation accuracy would fail to improve any further at around this point. To compensate for the swiftness of this overfitting, we elected to create a callback function whereby the model would stop training and retain the model’s weights and biases from its best epoch if after 3 epochs, the model’s validation accuracy was not improving further. We also included another callback to save the best iteration of the model to an .h5 file for preservation and ease of comparison in our grid search.\n",
    "\n",
    "Our chosen training metric for this model was accuracy. This was chosen because it acts as a direct measure of the proportion of correct predictions from the model against the expected outcomes. This binds the evaluation and correction of the model’s performance to how it functionally performs at the classification task."
   ]
  },
  {
   "attachments": {},
   "cell_type": "markdown",
   "metadata": {},
   "source": [
    "### D1: STOPPING CRITERIA\n",
    "\n",
    "As we described above, we opted to use a dynamic stopping criteria in order to mitigate the impact of overfitting. We defined the maximum number of training epochs as 10, included a callback function to end training if the validation accuracy stalled for 3 epochs, and saved the weights and balances of the model at the epoch where it performed best on the validation data.\n",
    "\n",
    "An output of the model’s training can be seen by executing the code below:"
   ]
  },
  {
   "cell_type": "code",
   "execution_count": 162,
   "metadata": {},
   "outputs": [
    {
     "name": "stdout",
     "output_type": "stream",
     "text": [
      "Training...\n",
      "Epoch 1/10\n"
     ]
    },
    {
     "name": "stdout",
     "output_type": "stream",
     "text": [
      "25/25 [==============================] - 6s 101ms/step - loss: 0.6877 - accuracy: 0.5350 - val_loss: 0.6965 - val_accuracy: 0.4700\n",
      "Epoch 2/10\n",
      "25/25 [==============================] - 2s 66ms/step - loss: 0.6451 - accuracy: 0.6913 - val_loss: 0.6741 - val_accuracy: 0.5800\n",
      "Epoch 3/10\n",
      "25/25 [==============================] - 2s 65ms/step - loss: 0.4798 - accuracy: 0.8637 - val_loss: 0.6022 - val_accuracy: 0.6800\n",
      "Epoch 4/10\n",
      "25/25 [==============================] - 2s 66ms/step - loss: 0.2415 - accuracy: 0.9500 - val_loss: 0.5023 - val_accuracy: 0.7800\n",
      "Epoch 5/10\n",
      "25/25 [==============================] - 2s 63ms/step - loss: 0.1148 - accuracy: 0.9737 - val_loss: 0.6350 - val_accuracy: 0.7100\n",
      "Epoch 6/10\n",
      "25/25 [==============================] - 2s 61ms/step - loss: 0.0868 - accuracy: 0.9812 - val_loss: 0.6657 - val_accuracy: 0.7300\n",
      "Epoch 7/10\n",
      "25/25 [==============================] - 2s 66ms/step - loss: 0.0581 - accuracy: 0.9837 - val_loss: 0.5865 - val_accuracy: 0.7700\n",
      "4/4 [==============================] - 1s 14ms/step - loss: 0.5023 - accuracy: 0.7800\n",
      "Validation Loss: 0.5022832751274109, Validation Accuracy: 0.7799999713897705\n",
      "4/4 [==============================] - 1s 12ms/step - loss: 0.4869 - accuracy: 0.8100\n",
      "Test Loss: 0.4869072437286377, Test Accuracy: 0.8100000023841858\n"
     ]
    }
   ],
   "source": [
    "\n",
    "checkpoint = ModelCheckpoint('best_model.h5', monitor='val_accuracy', save_best_only=True, mode='max')\n",
    "early_stop = EarlyStopping(monitor='val_accuracy', patience=3, restore_best_weights=True)\n",
    "\n",
    "# Train the model\n",
    "print(\"Training...\")\n",
    "history = model.fit(X_train, y_train,\n",
    "          batch_size=32,\n",
    "          epochs=10,  # Increase the number of epochs\n",
    "          callbacks=[early_stop, checkpoint],\n",
    "          validation_data=(X_valid, y_valid))\n",
    "\n",
    "# Load the model\n",
    "best_model = tf.keras.models.load_model('best_model.h5')\n",
    "# Evaluate the best model on the test set\n",
    "valid_loss, valid_accuracy = best_model.evaluate(X_valid, y_valid)\n",
    "print(f'Validation Loss: {valid_loss}, Validation Accuracy: {valid_accuracy}')\n",
    "\n",
    "# Load the best model\n",
    "best_model = tf.keras.models.load_model('best_model.h5')\n",
    "\n",
    "# Evaluate the best model on the test set\n",
    "test_loss, test_accuracy = best_model.evaluate(X_test, y_test)\n",
    "print(f'Test Loss: {test_loss}, Test Accuracy: {test_accuracy}')"
   ]
  },
  {
   "cell_type": "code",
   "execution_count": 163,
   "metadata": {},
   "outputs": [
    {
     "name": "stdout",
     "output_type": "stream",
     "text": [
      "4/4 [==============================] - 1s 9ms/step\n",
      "4/4 [==============================] - 0s 10ms/step - loss: 0.4869 - accuracy: 0.8100\n"
     ]
    }
   ],
   "source": [
    "# Make predictions on the test set and round them to 0 or 1\n",
    "y_pred = best_model.predict(X_test)\n",
    "y_pred_bin = np.round(y_pred).flatten()\n",
    "\n",
    "# Compute evaluation metrics\n",
    "accuracy = best_model.evaluate(X_test, y_test)[1]\n",
    "precision = precision_score(y_test, y_pred_bin)\n",
    "recall = recall_score(y_test, y_pred_bin)\n",
    "f1 = f1_score(y_test, y_pred_bin)\n",
    "\n",
    "# Compute confusion matrix\n",
    "matrix_final = confusion_matrix(y_test, y_pred_bin)"
   ]
  },
  {
   "attachments": {},
   "cell_type": "markdown",
   "metadata": {},
   "source": [
    "### D2: FITNESS\n",
    "\n",
    "The final fitness of our model can be described based on its predictive accuracy on the training versus validation data sets. As we can observe in the output from our training process in section D1, the validation accuracy of the model stalled at .78 at epoch 4 of training. The training accuracy at this epoch was .9500. Because the model failed to improve its validation accuracy at subsequent epochs, the model’s weights and biases at epoch 4 were stored as the optimal iteration of the final model. \n",
    "\n",
    "This early stopping process was the primary precaution that we chose to take in order to prevent overfitting on the training data. As we can see in the training output, the training accuracy continues to improve with subsequent epochs, and if the maximum number of epochs is extended in the model parameters, will approach perfect predictive accuracy on the training dataset. However, since our priority is to prevent overfitting, choosing the model with the best validation accuracy ultimately ensures that the predictive capability of our model is as generalized as possible. As we saw when the model was evaluated on the testing data, the test accuracy came out to 81%, which is roughly comparable to our validation accuracy.\n",
    "\n",
    "From these results, we can conclude that our model is not terribly overfit, and our validation and testing accuracy scores can be generally regarded as indicative of the predictive performance of this RNN on similar datasets."
   ]
  },
  {
   "attachments": {},
   "cell_type": "markdown",
   "metadata": {},
   "source": [
    "### D3: TRAINING PROCESS\n",
    "\n",
    "The code below generates visualizations of our model’s training process, including the Training and Validation Accuracy scores of the model at every recorded epoch. As we can see, the validation loss and accuracy stall at epoch 4, while the training accuracy and loss continues to improve in the 3 subsequent epochs before the early stopping callback is executed and the weights and biases of the model after epoch 4 is saved."
   ]
  },
  {
   "cell_type": "code",
   "execution_count": 164,
   "metadata": {},
   "outputs": [
    {
     "data": {
      "image/png": "[encoded data removed]",
      "text/plain": [
       "<Figure size 1200x400 with 2 Axes>"
      ]
     },
     "metadata": {},
     "output_type": "display_data"
    }
   ],
   "source": [
    "# Plot Training and Validation Accuracy over epochs\n",
    "plt.figure(figsize=(12, 4))\n",
    "plt.subplot(1, 2, 1)\n",
    "plt.plot(history.history[\"accuracy\"], label=\"Training Accuracy\")\n",
    "plt.plot(history.history[\"val_accuracy\"], label=\"Validation Accuracy\")\n",
    "plt.title(\"Accuracy Over Training Epochs\")\n",
    "plt.xlabel(\"Epoch\")\n",
    "plt.xticks(ticks=np.arange(len(history.history[\"accuracy\"])), \n",
    "           labels=np.arange(1, len(history.history[\"accuracy\"]) + 1))\n",
    "plt.ylabel(\"Accuracy\")\n",
    "\n",
    "# Plot Training and Validation Loss over epochs\n",
    "plt.subplot(1, 2, 2)\n",
    "plt.plot(history.history[\"loss\"], label=\"Training Loss\")\n",
    "plt.plot(history.history[\"val_loss\"], label=\"Validation Loss\")\n",
    "plt.title(\"Loss Over Training Epochs\")\n",
    "plt.xlabel(\"Epoch\")\n",
    "plt.xticks(ticks=np.arange(len(history.history[\"loss\"])), \n",
    "           labels=np.arange(1, len(history.history[\"loss\"]) + 1))\n",
    "plt.ylabel(\"Loss\")\n",
    "\n",
    "plt.tight_layout()\n",
    "plt.show()\n"
   ]
  },
  {
   "attachments": {},
   "cell_type": "markdown",
   "metadata": {},
   "source": [
    "### D4: PREDICTIVE ACCURACY\n",
    "\n",
    "As we can see from the above visualizations, the predictive accuracy of the model according to our chosen metric, validation accuracy, is 78%. In addition, we can generate several other statistics and visualizations when we run our model on our test dataset.\n",
    "\n",
    "Our accuracy, Precision, Recall, and F1 statistics when the model is applied to the test dataset can be found below:"
   ]
  },
  {
   "cell_type": "code",
   "execution_count": 165,
   "metadata": {},
   "outputs": [
    {
     "name": "stdout",
     "output_type": "stream",
     "text": [
      "Testing Metrics\n",
      "---\n",
      "Accuracy: 0.8100000023841858\n",
      "Precision: 0.8225806451612904\n",
      "Recall: 0.864406779661017\n",
      "F1-Score: 0.8429752066115702\n"
     ]
    }
   ],
   "source": [
    "# Print evaluation metrics\n",
    "print('Testing Metrics')\n",
    "print('---')\n",
    "print(\"Accuracy:\", accuracy)\n",
    "print(\"Precision:\", precision)\n",
    "print(\"Recall:\", recall)\n",
    "print(\"F1-Score:\", f1)"
   ]
  },
  {
   "attachments": {},
   "cell_type": "markdown",
   "metadata": {},
   "source": [
    "In addition, we can generate a confusion matrix to visualize the actual predictive results on the test set, and an ROC curve, complete with AUC score, to visualize the effective performance of the model at various classification cutoffs by executing the following code:"
   ]
  },
  {
   "cell_type": "code",
   "execution_count": 166,
   "metadata": {},
   "outputs": [
    {
     "data": {
      "image/png": "[encoded data removed]",
      "text/plain": [
       "<Figure size 800x600 with 2 Axes>"
      ]
     },
     "metadata": {},
     "output_type": "display_data"
    },
    {
     "data": {
      "image/png": "[encoded data removed]",
      "text/plain": [
       "<Figure size 800x600 with 1 Axes>"
      ]
     },
     "metadata": {},
     "output_type": "display_data"
    }
   ],
   "source": [
    "# Plot confusion matrix\n",
    "plt.figure(figsize=(8, 6))\n",
    "#sns.heatmap(cm, annot=True, fmt=\"d\", cmap=\"Blues\")\n",
    "sns.heatmap(matrix_final, \n",
    "            annot=True, \n",
    "            fmt=\"d\", \n",
    "            cmap=\"Blues\", \n",
    "            yticklabels=['Negative', 'Positive'], \n",
    "            xticklabels=['Negative', 'Positive'])\n",
    "plt.title(\"Confusion Matrix\")\n",
    "plt.xlabel(\"Predicted Label\")\n",
    "plt.ylabel(\"True Label\")\n",
    "plt.show()\n",
    "\n",
    "# Compute ROC curve and AUC\n",
    "fpr, tpr, thresholds = roc_curve(y_test, y_pred)\n",
    "roc_auc = auc(fpr, tpr)\n",
    "\n",
    "# Plot ROC curve on binary predictions\n",
    "plt.figure(figsize=(8, 6))\n",
    "plt.plot(fpr, tpr, label= str('AUC = ' + str(round(roc_auc, 2))))\n",
    "plt.plot([0, 1], [0, 1], \"--\", color=\"gray\")\n",
    "plt.title(\"ROC Curve\")\n",
    "plt.xlabel(\"FPR\")\n",
    "plt.ylabel(\"TPR\")\n",
    "plt.legend()\n",
    "plt.show()"
   ]
  },
  {
   "attachments": {},
   "cell_type": "markdown",
   "metadata": {},
   "source": [
    "As we can see, the predictive accuracy on the test data was 81%, and our final AUC score was 0.84. From these results, we can conclude that our analysis was successful according to our initial goal of a test accuracy of .75."
   ]
  },
  {
   "attachments": {},
   "cell_type": "markdown",
   "metadata": {},
   "source": [
    "### E: CODE\n",
    "\n",
    "The following code will save the final tested model to an .h5 file. As a point of note, this step was executed earlier in script, but has been included for rubric continuity."
   ]
  },
  {
   "cell_type": "code",
   "execution_count": 167,
   "metadata": {},
   "outputs": [],
   "source": [
    "#Save the final model to an .h5 file for submission\n",
    "best_model.save(\"final_model.h5\")"
   ]
  },
  {
   "attachments": {},
   "cell_type": "markdown",
   "metadata": {},
   "source": [
    "### F: FUNCTIONALITY\n",
    "\n",
    "Based on the results of this analysis, we can determine that this network architecture is quite effective at performing sentiment analysis on unfamiliar data. The architecture itself was kept quite simple for two important reasons. First, a relatively small number of model layers equates to a smaller number of hyperparameters to tune. Because the time that a grid search takes increases exponentially with the number of additional dimensions introduced, this enabled us to quickly tune the model. Second, the lack of model complexity means that this model is more efficient at generating predictions for larger quantities of data, which makes it fairly scalable in its potential usefulness to a production studio performing market research."
   ]
  },
  {
   "attachments": {},
   "cell_type": "markdown",
   "metadata": {},
   "source": [
    "### G: RECOMMENDATIONS\n",
    "\n",
    "Based on the fact that both the validation accuracy and test accuracy of the model exceeded our goal of .75, we can recommend that a production studio employ our model to evaluate larger samples of reviews. By evaluating the overall sentiment toward different groups of films that share stylistic and creative similarities, a studio could tailor their strategic planning efforts to cater more effectively to different market segments based on the apparent trends of audience preferences. This would ultimately maximize box office draw and mitigate risks in production decisions."
   ]
  },
  {
   "attachments": {},
   "cell_type": "markdown",
   "metadata": {},
   "source": [
    "### H: REPORTING\n",
    "\n",
    "This WGU submission will include the Jupyter notebook file that contains this report, code, and output, as well as a .html export of that notebook file. As a point of note, due to the randomized nature of deep learning model training, the final validation and testing accuracy statistics may differ from the included output and written report if the code is executed despite our efforts to stabilize them by manipulating random number seeding at the start of the script."
   ]
  },
  {
   "attachments": {},
   "cell_type": "markdown",
   "metadata": {},
   "source": [
    "### I: SOURCES FOR THIRD PARTY CODE\n",
    "\n",
    "Chollet, F. et al. (2015).\"Bidirectional Layer.\" Keras. https://keras.io/api/layers/recurrent_layers/bidirectional/"
   ]
  },
  {
   "attachments": {},
   "cell_type": "markdown",
   "metadata": {},
   "source": [
    "### J: SOURCES\n",
    "\n",
    "Bahetti, P. (2021). \"Train Test Validation Split: How To & Best Practices [2023].\" https://www.v7labs.com/blog/train-validation-test-set#h1\n",
    "\n",
    "Gupta, A. (2021). \"A Comprehensive Guide on Optimizers in Deep Learning.\" https://www.analyticsvidhya.com/blog/2021/10/a-comprehensive-guide-on-deep-learning-optimizers/#Adam_Deep_Learning_Optimizer"
   ]
  }
 ],
 "metadata": {
  "kernelspec": {
   "display_name": "Python 3",
   "language": "python",
   "name": "python3"
  },
  "language_info": {
   "codemirror_mode": {
    "name": "ipython",
    "version": 3
   },
   "file_extension": ".py",
   "mimetype": "text/x-python",
   "name": "python",
   "nbconvert_exporter": "python",
   "pygments_lexer": "ipython3",
   "version": "3.11.1"
  },
  "orig_nbformat": 4
 },
 "nbformat": 4,
 "nbformat_minor": 2
}
